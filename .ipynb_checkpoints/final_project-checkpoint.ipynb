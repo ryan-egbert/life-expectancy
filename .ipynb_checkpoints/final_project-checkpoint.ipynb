{
 "cells": [
  {
   "cell_type": "code",
   "execution_count": 197,
   "metadata": {},
   "outputs": [],
   "source": [
    "import pandas as pd\n",
    "import numpy as np\n",
    "import matplotlib.pylab as plt\n",
    "import os\n",
    "\n",
    "data = pd.read_csv(\"data/original_life_expectancy_data.csv\")\n",
    "bmi = pd.read_csv(\"data/BMI.csv\")\n",
    "measles = pd.read_csv(\"data/measles_immunization.csv\")\n",
    "countries = pd.read_csv(\"data/CountryNames.csv\")\n",
    "gdp = pd.read_csv(\"data/GDP.csv\", header=4)\n",
    "population = pd.read_csv(\"data/Population Data Set.csv\", header=4)\n",
    "coordinates = pd.read_csv(\"data/lat_long_values.csv\")"
   ]
  },
  {
   "cell_type": "code",
   "execution_count": 198,
   "metadata": {},
   "outputs": [],
   "source": [
    "\n",
    "bmi = pd.DataFrame(bmi)"
   ]
  },
  {
   "cell_type": "code",
   "execution_count": 199,
   "metadata": {},
   "outputs": [
    {
     "data": {
      "text/plain": [
       "False    1.0\n",
       "Name: FactValueNumeric, dtype: float64"
      ]
     },
     "execution_count": 199,
     "metadata": {},
     "output_type": "execute_result"
    }
   ],
   "source": [
    "data['New BMI'] = 0\n",
    "bmi = bmi[bmi['FactValueNumeric'].isna() != True]\n",
    "bmi['FactValueNumeric'].isna().value_counts(normalize=True)"
   ]
  },
  {
   "cell_type": "code",
   "execution_count": 200,
   "metadata": {},
   "outputs": [],
   "source": [
    "for index, row in data.iterrows():\n",
    "    try:\n",
    "        mask = ((bmi['Location'] == row['Country']) & (bmi['Period'] == row['Year']) & (bmi['Dim1'] == 'Both sexes'))\n",
    "        x = bmi[mask]['FactValueNumeric']\n",
    "        #print(x, type(x))\n",
    "        data.loc[index, 'New BMI'] = float(x)\n",
    "        #data.iloc[index, 'New BMI'] = float(BMI[((BMI['Location'] == row['Country']) & (BMI['Period'] == row['Year']) & (BMI['Dim1'] == 'Both sexes'))]['FactValueNumeric'].values[0])\n",
    "        if len(x)==0:\n",
    "            continue\n",
    "    except:\n",
    "        continue        \n"
   ]
  },
  {
   "cell_type": "code",
   "execution_count": 201,
   "metadata": {},
   "outputs": [
    {
     "data": {
      "text/html": [
       "<div>\n",
       "<style scoped>\n",
       "    .dataframe tbody tr th:only-of-type {\n",
       "        vertical-align: middle;\n",
       "    }\n",
       "\n",
       "    .dataframe tbody tr th {\n",
       "        vertical-align: top;\n",
       "    }\n",
       "\n",
       "    .dataframe thead th {\n",
       "        text-align: right;\n",
       "    }\n",
       "</style>\n",
       "<table border=\"1\" class=\"dataframe\">\n",
       "  <thead>\n",
       "    <tr style=\"text-align: right;\">\n",
       "      <th></th>\n",
       "      <th>Country</th>\n",
       "      <th>Year</th>\n",
       "      <th>Status</th>\n",
       "      <th>Life expectancy</th>\n",
       "      <th>Adult Mortality</th>\n",
       "      <th>infant deaths</th>\n",
       "      <th>Alcohol</th>\n",
       "      <th>percentage expenditure</th>\n",
       "      <th>Hepatitis B</th>\n",
       "      <th>Measles</th>\n",
       "      <th>...</th>\n",
       "      <th>Total expenditure</th>\n",
       "      <th>Diphtheria</th>\n",
       "      <th>HIV/AIDS</th>\n",
       "      <th>GDP</th>\n",
       "      <th>Population</th>\n",
       "      <th>thinness  1-19 years</th>\n",
       "      <th>thinness 5-9 years</th>\n",
       "      <th>Income composition of resources</th>\n",
       "      <th>Schooling</th>\n",
       "      <th>New BMI</th>\n",
       "    </tr>\n",
       "  </thead>\n",
       "  <tbody>\n",
       "    <tr>\n",
       "      <th>0</th>\n",
       "      <td>Afghanistan</td>\n",
       "      <td>2015</td>\n",
       "      <td>Developing</td>\n",
       "      <td>65.0</td>\n",
       "      <td>263.0</td>\n",
       "      <td>62</td>\n",
       "      <td>0.01</td>\n",
       "      <td>71.279624</td>\n",
       "      <td>65.0</td>\n",
       "      <td>1154</td>\n",
       "      <td>...</td>\n",
       "      <td>8.16</td>\n",
       "      <td>65.0</td>\n",
       "      <td>0.1</td>\n",
       "      <td>584.259210</td>\n",
       "      <td>33736494.0</td>\n",
       "      <td>17.2</td>\n",
       "      <td>17.3</td>\n",
       "      <td>0.479</td>\n",
       "      <td>10.1</td>\n",
       "      <td>23.3</td>\n",
       "    </tr>\n",
       "    <tr>\n",
       "      <th>1</th>\n",
       "      <td>Afghanistan</td>\n",
       "      <td>2014</td>\n",
       "      <td>Developing</td>\n",
       "      <td>59.9</td>\n",
       "      <td>271.0</td>\n",
       "      <td>64</td>\n",
       "      <td>0.01</td>\n",
       "      <td>73.523582</td>\n",
       "      <td>62.0</td>\n",
       "      <td>492</td>\n",
       "      <td>...</td>\n",
       "      <td>8.18</td>\n",
       "      <td>62.0</td>\n",
       "      <td>0.1</td>\n",
       "      <td>612.696514</td>\n",
       "      <td>327582.0</td>\n",
       "      <td>17.5</td>\n",
       "      <td>17.5</td>\n",
       "      <td>0.476</td>\n",
       "      <td>10.0</td>\n",
       "      <td>23.2</td>\n",
       "    </tr>\n",
       "    <tr>\n",
       "      <th>2</th>\n",
       "      <td>Afghanistan</td>\n",
       "      <td>2013</td>\n",
       "      <td>Developing</td>\n",
       "      <td>59.9</td>\n",
       "      <td>268.0</td>\n",
       "      <td>66</td>\n",
       "      <td>0.01</td>\n",
       "      <td>73.219243</td>\n",
       "      <td>64.0</td>\n",
       "      <td>430</td>\n",
       "      <td>...</td>\n",
       "      <td>8.13</td>\n",
       "      <td>64.0</td>\n",
       "      <td>0.1</td>\n",
       "      <td>631.744976</td>\n",
       "      <td>31731688.0</td>\n",
       "      <td>17.7</td>\n",
       "      <td>17.7</td>\n",
       "      <td>0.470</td>\n",
       "      <td>9.9</td>\n",
       "      <td>23.0</td>\n",
       "    </tr>\n",
       "    <tr>\n",
       "      <th>3</th>\n",
       "      <td>Afghanistan</td>\n",
       "      <td>2012</td>\n",
       "      <td>Developing</td>\n",
       "      <td>59.5</td>\n",
       "      <td>272.0</td>\n",
       "      <td>69</td>\n",
       "      <td>0.01</td>\n",
       "      <td>78.184215</td>\n",
       "      <td>67.0</td>\n",
       "      <td>2787</td>\n",
       "      <td>...</td>\n",
       "      <td>8.52</td>\n",
       "      <td>67.0</td>\n",
       "      <td>0.1</td>\n",
       "      <td>669.959000</td>\n",
       "      <td>3696958.0</td>\n",
       "      <td>17.9</td>\n",
       "      <td>18.0</td>\n",
       "      <td>0.463</td>\n",
       "      <td>9.8</td>\n",
       "      <td>22.9</td>\n",
       "    </tr>\n",
       "    <tr>\n",
       "      <th>4</th>\n",
       "      <td>Afghanistan</td>\n",
       "      <td>2011</td>\n",
       "      <td>Developing</td>\n",
       "      <td>59.2</td>\n",
       "      <td>275.0</td>\n",
       "      <td>71</td>\n",
       "      <td>0.01</td>\n",
       "      <td>7.097109</td>\n",
       "      <td>68.0</td>\n",
       "      <td>3013</td>\n",
       "      <td>...</td>\n",
       "      <td>7.87</td>\n",
       "      <td>68.0</td>\n",
       "      <td>0.1</td>\n",
       "      <td>63.537231</td>\n",
       "      <td>2978599.0</td>\n",
       "      <td>18.2</td>\n",
       "      <td>18.2</td>\n",
       "      <td>0.454</td>\n",
       "      <td>9.5</td>\n",
       "      <td>22.8</td>\n",
       "    </tr>\n",
       "  </tbody>\n",
       "</table>\n",
       "<p>5 rows × 23 columns</p>\n",
       "</div>"
      ],
      "text/plain": [
       "       Country  Year      Status  Life expectancy   Adult Mortality  \\\n",
       "0  Afghanistan  2015  Developing              65.0            263.0   \n",
       "1  Afghanistan  2014  Developing              59.9            271.0   \n",
       "2  Afghanistan  2013  Developing              59.9            268.0   \n",
       "3  Afghanistan  2012  Developing              59.5            272.0   \n",
       "4  Afghanistan  2011  Developing              59.2            275.0   \n",
       "\n",
       "   infant deaths  Alcohol  percentage expenditure  Hepatitis B  Measles   ...  \\\n",
       "0             62     0.01               71.279624         65.0      1154  ...   \n",
       "1             64     0.01               73.523582         62.0       492  ...   \n",
       "2             66     0.01               73.219243         64.0       430  ...   \n",
       "3             69     0.01               78.184215         67.0      2787  ...   \n",
       "4             71     0.01                7.097109         68.0      3013  ...   \n",
       "\n",
       "   Total expenditure  Diphtheria    HIV/AIDS         GDP  Population  \\\n",
       "0               8.16         65.0        0.1  584.259210  33736494.0   \n",
       "1               8.18         62.0        0.1  612.696514    327582.0   \n",
       "2               8.13         64.0        0.1  631.744976  31731688.0   \n",
       "3               8.52         67.0        0.1  669.959000   3696958.0   \n",
       "4               7.87         68.0        0.1   63.537231   2978599.0   \n",
       "\n",
       "    thinness  1-19 years   thinness 5-9 years  \\\n",
       "0                   17.2                 17.3   \n",
       "1                   17.5                 17.5   \n",
       "2                   17.7                 17.7   \n",
       "3                   17.9                 18.0   \n",
       "4                   18.2                 18.2   \n",
       "\n",
       "   Income composition of resources  Schooling  New BMI  \n",
       "0                            0.479       10.1     23.3  \n",
       "1                            0.476       10.0     23.2  \n",
       "2                            0.470        9.9     23.0  \n",
       "3                            0.463        9.8     22.9  \n",
       "4                            0.454        9.5     22.8  \n",
       "\n",
       "[5 rows x 23 columns]"
      ]
     },
     "execution_count": 201,
     "metadata": {},
     "output_type": "execute_result"
    }
   ],
   "source": [
    "data.head()"
   ]
  },
  {
   "cell_type": "code",
   "execution_count": 202,
   "metadata": {},
   "outputs": [],
   "source": [
    "i = 0\n",
    "for index, row in gdp.iterrows():\n",
    "    try:\n",
    "        mask = row['Country Name'] == countries['Country']    \n",
    "        x = countries[mask]['Target Name'].values[0]\n",
    "        gdp.at[index, 'Country Name'] = x\n",
    "    \n",
    "    except:    \n",
    "        continue"
   ]
  },
  {
   "cell_type": "code",
   "execution_count": 203,
   "metadata": {},
   "outputs": [
    {
     "data": {
      "text/plain": [
       "False    0.956093\n",
       "True     0.043907\n",
       "Name: New GDP, dtype: float64"
      ]
     },
     "execution_count": 203,
     "metadata": {},
     "output_type": "execute_result"
    }
   ],
   "source": [
    "for index, row in data.iterrows():\n",
    "    try:\n",
    "        mask = gdp['Country Name'] == row['Country']     \n",
    "        x = gdp[mask][str(row['Year'])].values[0]\n",
    "        data.at[index, 'New GDP'] = x\n",
    "    \n",
    "    except:\n",
    "    \n",
    "        continue\n",
    "\n",
    "\n",
    "data['New GDP'].isna().value_counts(normalize=True)"
   ]
  },
  {
   "cell_type": "code",
   "execution_count": 204,
   "metadata": {},
   "outputs": [],
   "source": [
    "for index, row in data.iterrows():\n",
    "    try:\n",
    "        mask = measles['Country Name'] == row['Country']     \n",
    "        x = measles[mask][str(row['Year'])].values[0]\n",
    "        data.at[index, 'New Measles'] = x\n",
    "    \n",
    "    except:\n",
    "    \n",
    "        continue"
   ]
  },
  {
   "cell_type": "code",
   "execution_count": 205,
   "metadata": {},
   "outputs": [
    {
     "data": {
      "text/html": [
       "<div>\n",
       "<style scoped>\n",
       "    .dataframe tbody tr th:only-of-type {\n",
       "        vertical-align: middle;\n",
       "    }\n",
       "\n",
       "    .dataframe tbody tr th {\n",
       "        vertical-align: top;\n",
       "    }\n",
       "\n",
       "    .dataframe thead th {\n",
       "        text-align: right;\n",
       "    }\n",
       "</style>\n",
       "<table border=\"1\" class=\"dataframe\">\n",
       "  <thead>\n",
       "    <tr style=\"text-align: right;\">\n",
       "      <th></th>\n",
       "      <th>Country</th>\n",
       "      <th>Year</th>\n",
       "      <th>Status</th>\n",
       "      <th>Life expectancy</th>\n",
       "      <th>Adult Mortality</th>\n",
       "      <th>infant deaths</th>\n",
       "      <th>Alcohol</th>\n",
       "      <th>percentage expenditure</th>\n",
       "      <th>Hepatitis B</th>\n",
       "      <th>Measles</th>\n",
       "      <th>...</th>\n",
       "      <th>HIV/AIDS</th>\n",
       "      <th>GDP</th>\n",
       "      <th>Population</th>\n",
       "      <th>thinness  1-19 years</th>\n",
       "      <th>thinness 5-9 years</th>\n",
       "      <th>Income composition of resources</th>\n",
       "      <th>Schooling</th>\n",
       "      <th>New BMI</th>\n",
       "      <th>New GDP</th>\n",
       "      <th>New Measles</th>\n",
       "    </tr>\n",
       "  </thead>\n",
       "  <tbody>\n",
       "    <tr>\n",
       "      <th>0</th>\n",
       "      <td>Afghanistan</td>\n",
       "      <td>2015</td>\n",
       "      <td>Developing</td>\n",
       "      <td>65.0</td>\n",
       "      <td>263.0</td>\n",
       "      <td>62</td>\n",
       "      <td>0.01</td>\n",
       "      <td>71.279624</td>\n",
       "      <td>65.0</td>\n",
       "      <td>1154</td>\n",
       "      <td>...</td>\n",
       "      <td>0.1</td>\n",
       "      <td>584.259210</td>\n",
       "      <td>33736494.0</td>\n",
       "      <td>17.2</td>\n",
       "      <td>17.3</td>\n",
       "      <td>0.479</td>\n",
       "      <td>10.1</td>\n",
       "      <td>23.3</td>\n",
       "      <td>574.184114</td>\n",
       "      <td>63.0</td>\n",
       "    </tr>\n",
       "    <tr>\n",
       "      <th>1</th>\n",
       "      <td>Afghanistan</td>\n",
       "      <td>2014</td>\n",
       "      <td>Developing</td>\n",
       "      <td>59.9</td>\n",
       "      <td>271.0</td>\n",
       "      <td>64</td>\n",
       "      <td>0.01</td>\n",
       "      <td>73.523582</td>\n",
       "      <td>62.0</td>\n",
       "      <td>492</td>\n",
       "      <td>...</td>\n",
       "      <td>0.1</td>\n",
       "      <td>612.696514</td>\n",
       "      <td>327582.0</td>\n",
       "      <td>17.5</td>\n",
       "      <td>17.5</td>\n",
       "      <td>0.476</td>\n",
       "      <td>10.0</td>\n",
       "      <td>23.2</td>\n",
       "      <td>583.656193</td>\n",
       "      <td>60.0</td>\n",
       "    </tr>\n",
       "    <tr>\n",
       "      <th>2</th>\n",
       "      <td>Afghanistan</td>\n",
       "      <td>2013</td>\n",
       "      <td>Developing</td>\n",
       "      <td>59.9</td>\n",
       "      <td>268.0</td>\n",
       "      <td>66</td>\n",
       "      <td>0.01</td>\n",
       "      <td>73.219243</td>\n",
       "      <td>64.0</td>\n",
       "      <td>430</td>\n",
       "      <td>...</td>\n",
       "      <td>0.1</td>\n",
       "      <td>631.744976</td>\n",
       "      <td>31731688.0</td>\n",
       "      <td>17.7</td>\n",
       "      <td>17.7</td>\n",
       "      <td>0.470</td>\n",
       "      <td>9.9</td>\n",
       "      <td>23.0</td>\n",
       "      <td>587.565090</td>\n",
       "      <td>57.0</td>\n",
       "    </tr>\n",
       "    <tr>\n",
       "      <th>3</th>\n",
       "      <td>Afghanistan</td>\n",
       "      <td>2012</td>\n",
       "      <td>Developing</td>\n",
       "      <td>59.5</td>\n",
       "      <td>272.0</td>\n",
       "      <td>69</td>\n",
       "      <td>0.01</td>\n",
       "      <td>78.184215</td>\n",
       "      <td>67.0</td>\n",
       "      <td>2787</td>\n",
       "      <td>...</td>\n",
       "      <td>0.1</td>\n",
       "      <td>669.959000</td>\n",
       "      <td>3696958.0</td>\n",
       "      <td>17.9</td>\n",
       "      <td>18.0</td>\n",
       "      <td>0.463</td>\n",
       "      <td>9.8</td>\n",
       "      <td>22.9</td>\n",
       "      <td>576.190126</td>\n",
       "      <td>59.0</td>\n",
       "    </tr>\n",
       "    <tr>\n",
       "      <th>4</th>\n",
       "      <td>Afghanistan</td>\n",
       "      <td>2011</td>\n",
       "      <td>Developing</td>\n",
       "      <td>59.2</td>\n",
       "      <td>275.0</td>\n",
       "      <td>71</td>\n",
       "      <td>0.01</td>\n",
       "      <td>7.097109</td>\n",
       "      <td>68.0</td>\n",
       "      <td>3013</td>\n",
       "      <td>...</td>\n",
       "      <td>0.1</td>\n",
       "      <td>63.537231</td>\n",
       "      <td>2978599.0</td>\n",
       "      <td>18.2</td>\n",
       "      <td>18.2</td>\n",
       "      <td>0.454</td>\n",
       "      <td>9.5</td>\n",
       "      <td>22.8</td>\n",
       "      <td>528.736648</td>\n",
       "      <td>64.0</td>\n",
       "    </tr>\n",
       "  </tbody>\n",
       "</table>\n",
       "<p>5 rows × 25 columns</p>\n",
       "</div>"
      ],
      "text/plain": [
       "       Country  Year      Status  Life expectancy   Adult Mortality  \\\n",
       "0  Afghanistan  2015  Developing              65.0            263.0   \n",
       "1  Afghanistan  2014  Developing              59.9            271.0   \n",
       "2  Afghanistan  2013  Developing              59.9            268.0   \n",
       "3  Afghanistan  2012  Developing              59.5            272.0   \n",
       "4  Afghanistan  2011  Developing              59.2            275.0   \n",
       "\n",
       "   infant deaths  Alcohol  percentage expenditure  Hepatitis B  Measles   ...  \\\n",
       "0             62     0.01               71.279624         65.0      1154  ...   \n",
       "1             64     0.01               73.523582         62.0       492  ...   \n",
       "2             66     0.01               73.219243         64.0       430  ...   \n",
       "3             69     0.01               78.184215         67.0      2787  ...   \n",
       "4             71     0.01                7.097109         68.0      3013  ...   \n",
       "\n",
       "    HIV/AIDS         GDP  Population   thinness  1-19 years  \\\n",
       "0        0.1  584.259210  33736494.0                   17.2   \n",
       "1        0.1  612.696514    327582.0                   17.5   \n",
       "2        0.1  631.744976  31731688.0                   17.7   \n",
       "3        0.1  669.959000   3696958.0                   17.9   \n",
       "4        0.1   63.537231   2978599.0                   18.2   \n",
       "\n",
       "    thinness 5-9 years  Income composition of resources  Schooling  New BMI  \\\n",
       "0                 17.3                            0.479       10.1     23.3   \n",
       "1                 17.5                            0.476       10.0     23.2   \n",
       "2                 17.7                            0.470        9.9     23.0   \n",
       "3                 18.0                            0.463        9.8     22.9   \n",
       "4                 18.2                            0.454        9.5     22.8   \n",
       "\n",
       "      New GDP  New Measles  \n",
       "0  574.184114         63.0  \n",
       "1  583.656193         60.0  \n",
       "2  587.565090         57.0  \n",
       "3  576.190126         59.0  \n",
       "4  528.736648         64.0  \n",
       "\n",
       "[5 rows x 25 columns]"
      ]
     },
     "execution_count": 205,
     "metadata": {},
     "output_type": "execute_result"
    }
   ],
   "source": [
    "data.head()"
   ]
  },
  {
   "cell_type": "code",
   "execution_count": 206,
   "metadata": {},
   "outputs": [],
   "source": [
    "i = 0\n",
    "for index, row in population.iterrows():\n",
    "    try:\n",
    "        mask = row['Country Name'] == countries['Country']    \n",
    "        x = countries[mask]['Target Name'].values[0]\n",
    "        population.at[index, 'Country Name'] = x\n",
    "    \n",
    "    except:    \n",
    "        continue"
   ]
  },
  {
   "cell_type": "code",
   "execution_count": null,
   "metadata": {},
   "outputs": [],
   "source": []
  },
  {
   "cell_type": "code",
   "execution_count": 207,
   "metadata": {},
   "outputs": [
    {
     "data": {
      "text/plain": [
       "False    0.98162\n",
       "True     0.01838\n",
       "Name: New Population, dtype: float64"
      ]
     },
     "execution_count": 207,
     "metadata": {},
     "output_type": "execute_result"
    }
   ],
   "source": [
    "for index, row in data.iterrows():\n",
    "    try:\n",
    "        mask = population['Country Name'] == row['Country']     \n",
    "        x = population[mask][str(row['Year'])].values[0]\n",
    "        data.at[index, 'New Population'] = x\n",
    "    \n",
    "    except:\n",
    "    \n",
    "        continue\n",
    "data['New Population'].isna().value_counts(normalize=True)"
   ]
  },
  {
   "cell_type": "code",
   "execution_count": 208,
   "metadata": {},
   "outputs": [
    {
     "name": "stdout",
     "output_type": "stream",
     "text": [
      "False    0.98162\n",
      "True     0.01838\n",
      "Name: New Population, dtype: float64\n",
      "False    0.77808\n",
      "True     0.22192\n",
      "Name: Population, dtype: float64\n"
     ]
    }
   ],
   "source": [
    "print(data['New Population'].isna().value_counts(normalize=True))\n",
    "print(data['Population'].isna().value_counts(normalize=True))"
   ]
  },
  {
   "cell_type": "code",
   "execution_count": 209,
   "metadata": {},
   "outputs": [
    {
     "data": {
      "text/html": [
       "<div>\n",
       "<style scoped>\n",
       "    .dataframe tbody tr th:only-of-type {\n",
       "        vertical-align: middle;\n",
       "    }\n",
       "\n",
       "    .dataframe tbody tr th {\n",
       "        vertical-align: top;\n",
       "    }\n",
       "\n",
       "    .dataframe thead th {\n",
       "        text-align: right;\n",
       "    }\n",
       "</style>\n",
       "<table border=\"1\" class=\"dataframe\">\n",
       "  <thead>\n",
       "    <tr style=\"text-align: right;\">\n",
       "      <th></th>\n",
       "      <th>Country</th>\n",
       "      <th>Year</th>\n",
       "      <th>Status</th>\n",
       "      <th>Life expectancy</th>\n",
       "      <th>Adult Mortality</th>\n",
       "      <th>infant deaths</th>\n",
       "      <th>Alcohol</th>\n",
       "      <th>percentage expenditure</th>\n",
       "      <th>Hepatitis B</th>\n",
       "      <th>Measles</th>\n",
       "      <th>...</th>\n",
       "      <th>GDP</th>\n",
       "      <th>Population</th>\n",
       "      <th>thinness  1-19 years</th>\n",
       "      <th>thinness 5-9 years</th>\n",
       "      <th>Income composition of resources</th>\n",
       "      <th>Schooling</th>\n",
       "      <th>New BMI</th>\n",
       "      <th>New GDP</th>\n",
       "      <th>New Measles</th>\n",
       "      <th>New Population</th>\n",
       "    </tr>\n",
       "  </thead>\n",
       "  <tbody>\n",
       "    <tr>\n",
       "      <th>0</th>\n",
       "      <td>Afghanistan</td>\n",
       "      <td>2015</td>\n",
       "      <td>Developing</td>\n",
       "      <td>65.0</td>\n",
       "      <td>263.0</td>\n",
       "      <td>62</td>\n",
       "      <td>0.01</td>\n",
       "      <td>71.279624</td>\n",
       "      <td>65.0</td>\n",
       "      <td>1154</td>\n",
       "      <td>...</td>\n",
       "      <td>584.259210</td>\n",
       "      <td>33736494.0</td>\n",
       "      <td>17.2</td>\n",
       "      <td>17.3</td>\n",
       "      <td>0.479</td>\n",
       "      <td>10.1</td>\n",
       "      <td>23.3</td>\n",
       "      <td>574.184114</td>\n",
       "      <td>63.0</td>\n",
       "      <td>34413603.0</td>\n",
       "    </tr>\n",
       "    <tr>\n",
       "      <th>1</th>\n",
       "      <td>Afghanistan</td>\n",
       "      <td>2014</td>\n",
       "      <td>Developing</td>\n",
       "      <td>59.9</td>\n",
       "      <td>271.0</td>\n",
       "      <td>64</td>\n",
       "      <td>0.01</td>\n",
       "      <td>73.523582</td>\n",
       "      <td>62.0</td>\n",
       "      <td>492</td>\n",
       "      <td>...</td>\n",
       "      <td>612.696514</td>\n",
       "      <td>327582.0</td>\n",
       "      <td>17.5</td>\n",
       "      <td>17.5</td>\n",
       "      <td>0.476</td>\n",
       "      <td>10.0</td>\n",
       "      <td>23.2</td>\n",
       "      <td>583.656193</td>\n",
       "      <td>60.0</td>\n",
       "      <td>33370804.0</td>\n",
       "    </tr>\n",
       "    <tr>\n",
       "      <th>2</th>\n",
       "      <td>Afghanistan</td>\n",
       "      <td>2013</td>\n",
       "      <td>Developing</td>\n",
       "      <td>59.9</td>\n",
       "      <td>268.0</td>\n",
       "      <td>66</td>\n",
       "      <td>0.01</td>\n",
       "      <td>73.219243</td>\n",
       "      <td>64.0</td>\n",
       "      <td>430</td>\n",
       "      <td>...</td>\n",
       "      <td>631.744976</td>\n",
       "      <td>31731688.0</td>\n",
       "      <td>17.7</td>\n",
       "      <td>17.7</td>\n",
       "      <td>0.470</td>\n",
       "      <td>9.9</td>\n",
       "      <td>23.0</td>\n",
       "      <td>587.565090</td>\n",
       "      <td>57.0</td>\n",
       "      <td>32269592.0</td>\n",
       "    </tr>\n",
       "    <tr>\n",
       "      <th>3</th>\n",
       "      <td>Afghanistan</td>\n",
       "      <td>2012</td>\n",
       "      <td>Developing</td>\n",
       "      <td>59.5</td>\n",
       "      <td>272.0</td>\n",
       "      <td>69</td>\n",
       "      <td>0.01</td>\n",
       "      <td>78.184215</td>\n",
       "      <td>67.0</td>\n",
       "      <td>2787</td>\n",
       "      <td>...</td>\n",
       "      <td>669.959000</td>\n",
       "      <td>3696958.0</td>\n",
       "      <td>17.9</td>\n",
       "      <td>18.0</td>\n",
       "      <td>0.463</td>\n",
       "      <td>9.8</td>\n",
       "      <td>22.9</td>\n",
       "      <td>576.190126</td>\n",
       "      <td>59.0</td>\n",
       "      <td>31161378.0</td>\n",
       "    </tr>\n",
       "    <tr>\n",
       "      <th>4</th>\n",
       "      <td>Afghanistan</td>\n",
       "      <td>2011</td>\n",
       "      <td>Developing</td>\n",
       "      <td>59.2</td>\n",
       "      <td>275.0</td>\n",
       "      <td>71</td>\n",
       "      <td>0.01</td>\n",
       "      <td>7.097109</td>\n",
       "      <td>68.0</td>\n",
       "      <td>3013</td>\n",
       "      <td>...</td>\n",
       "      <td>63.537231</td>\n",
       "      <td>2978599.0</td>\n",
       "      <td>18.2</td>\n",
       "      <td>18.2</td>\n",
       "      <td>0.454</td>\n",
       "      <td>9.5</td>\n",
       "      <td>22.8</td>\n",
       "      <td>528.736648</td>\n",
       "      <td>64.0</td>\n",
       "      <td>30117411.0</td>\n",
       "    </tr>\n",
       "  </tbody>\n",
       "</table>\n",
       "<p>5 rows × 26 columns</p>\n",
       "</div>"
      ],
      "text/plain": [
       "       Country  Year      Status  Life expectancy   Adult Mortality  \\\n",
       "0  Afghanistan  2015  Developing              65.0            263.0   \n",
       "1  Afghanistan  2014  Developing              59.9            271.0   \n",
       "2  Afghanistan  2013  Developing              59.9            268.0   \n",
       "3  Afghanistan  2012  Developing              59.5            272.0   \n",
       "4  Afghanistan  2011  Developing              59.2            275.0   \n",
       "\n",
       "   infant deaths  Alcohol  percentage expenditure  Hepatitis B  Measles   ...  \\\n",
       "0             62     0.01               71.279624         65.0      1154  ...   \n",
       "1             64     0.01               73.523582         62.0       492  ...   \n",
       "2             66     0.01               73.219243         64.0       430  ...   \n",
       "3             69     0.01               78.184215         67.0      2787  ...   \n",
       "4             71     0.01                7.097109         68.0      3013  ...   \n",
       "\n",
       "          GDP  Population   thinness  1-19 years   thinness 5-9 years  \\\n",
       "0  584.259210  33736494.0                   17.2                 17.3   \n",
       "1  612.696514    327582.0                   17.5                 17.5   \n",
       "2  631.744976  31731688.0                   17.7                 17.7   \n",
       "3  669.959000   3696958.0                   17.9                 18.0   \n",
       "4   63.537231   2978599.0                   18.2                 18.2   \n",
       "\n",
       "   Income composition of resources  Schooling  New BMI     New GDP  \\\n",
       "0                            0.479       10.1     23.3  574.184114   \n",
       "1                            0.476       10.0     23.2  583.656193   \n",
       "2                            0.470        9.9     23.0  587.565090   \n",
       "3                            0.463        9.8     22.9  576.190126   \n",
       "4                            0.454        9.5     22.8  528.736648   \n",
       "\n",
       "   New Measles  New Population  \n",
       "0         63.0      34413603.0  \n",
       "1         60.0      33370804.0  \n",
       "2         57.0      32269592.0  \n",
       "3         59.0      31161378.0  \n",
       "4         64.0      30117411.0  \n",
       "\n",
       "[5 rows x 26 columns]"
      ]
     },
     "execution_count": 209,
     "metadata": {},
     "output_type": "execute_result"
    }
   ],
   "source": [
    "data.head()"
   ]
  },
  {
   "cell_type": "code",
   "execution_count": 210,
   "metadata": {},
   "outputs": [],
   "source": [
    "data['Latitude'] = 0\n",
    "data['Longitude'] = 0\n",
    "for index, row in data.iterrows():\n",
    "    try:\n",
    "        mask = coordinates['country'] == row['Country'] \n",
    "        x = coordinates[mask]['latitude']\n",
    "        y = coordinates[mask]['longitude']\n",
    "        data.at[index, 'Latitude'] = x\n",
    "        data.at[index, 'Longitude'] = y\n",
    "    \n",
    "    except:\n",
    "    \n",
    "        continue"
   ]
  },
  {
   "cell_type": "code",
   "execution_count": 211,
   "metadata": {},
   "outputs": [
    {
     "data": {
      "text/html": [
       "<div>\n",
       "<style scoped>\n",
       "    .dataframe tbody tr th:only-of-type {\n",
       "        vertical-align: middle;\n",
       "    }\n",
       "\n",
       "    .dataframe tbody tr th {\n",
       "        vertical-align: top;\n",
       "    }\n",
       "\n",
       "    .dataframe thead th {\n",
       "        text-align: right;\n",
       "    }\n",
       "</style>\n",
       "<table border=\"1\" class=\"dataframe\">\n",
       "  <thead>\n",
       "    <tr style=\"text-align: right;\">\n",
       "      <th></th>\n",
       "      <th>Country</th>\n",
       "      <th>Year</th>\n",
       "      <th>Status</th>\n",
       "      <th>Life expectancy</th>\n",
       "      <th>Adult Mortality</th>\n",
       "      <th>infant deaths</th>\n",
       "      <th>Alcohol</th>\n",
       "      <th>percentage expenditure</th>\n",
       "      <th>Hepatitis B</th>\n",
       "      <th>Measles</th>\n",
       "      <th>...</th>\n",
       "      <th>thinness  1-19 years</th>\n",
       "      <th>thinness 5-9 years</th>\n",
       "      <th>Income composition of resources</th>\n",
       "      <th>Schooling</th>\n",
       "      <th>New BMI</th>\n",
       "      <th>New GDP</th>\n",
       "      <th>New Measles</th>\n",
       "      <th>New Population</th>\n",
       "      <th>Latitude</th>\n",
       "      <th>Longitude</th>\n",
       "    </tr>\n",
       "  </thead>\n",
       "  <tbody>\n",
       "    <tr>\n",
       "      <th>0</th>\n",
       "      <td>Afghanistan</td>\n",
       "      <td>2015</td>\n",
       "      <td>Developing</td>\n",
       "      <td>65.0</td>\n",
       "      <td>263.0</td>\n",
       "      <td>62</td>\n",
       "      <td>0.01</td>\n",
       "      <td>71.279624</td>\n",
       "      <td>65.0</td>\n",
       "      <td>1154</td>\n",
       "      <td>...</td>\n",
       "      <td>17.2</td>\n",
       "      <td>17.3</td>\n",
       "      <td>0.479</td>\n",
       "      <td>10.1</td>\n",
       "      <td>23.3</td>\n",
       "      <td>574.184114</td>\n",
       "      <td>63.0</td>\n",
       "      <td>34413603.0</td>\n",
       "      <td>33</td>\n",
       "      <td>67</td>\n",
       "    </tr>\n",
       "    <tr>\n",
       "      <th>1</th>\n",
       "      <td>Afghanistan</td>\n",
       "      <td>2014</td>\n",
       "      <td>Developing</td>\n",
       "      <td>59.9</td>\n",
       "      <td>271.0</td>\n",
       "      <td>64</td>\n",
       "      <td>0.01</td>\n",
       "      <td>73.523582</td>\n",
       "      <td>62.0</td>\n",
       "      <td>492</td>\n",
       "      <td>...</td>\n",
       "      <td>17.5</td>\n",
       "      <td>17.5</td>\n",
       "      <td>0.476</td>\n",
       "      <td>10.0</td>\n",
       "      <td>23.2</td>\n",
       "      <td>583.656193</td>\n",
       "      <td>60.0</td>\n",
       "      <td>33370804.0</td>\n",
       "      <td>33</td>\n",
       "      <td>67</td>\n",
       "    </tr>\n",
       "    <tr>\n",
       "      <th>2</th>\n",
       "      <td>Afghanistan</td>\n",
       "      <td>2013</td>\n",
       "      <td>Developing</td>\n",
       "      <td>59.9</td>\n",
       "      <td>268.0</td>\n",
       "      <td>66</td>\n",
       "      <td>0.01</td>\n",
       "      <td>73.219243</td>\n",
       "      <td>64.0</td>\n",
       "      <td>430</td>\n",
       "      <td>...</td>\n",
       "      <td>17.7</td>\n",
       "      <td>17.7</td>\n",
       "      <td>0.470</td>\n",
       "      <td>9.9</td>\n",
       "      <td>23.0</td>\n",
       "      <td>587.565090</td>\n",
       "      <td>57.0</td>\n",
       "      <td>32269592.0</td>\n",
       "      <td>33</td>\n",
       "      <td>67</td>\n",
       "    </tr>\n",
       "    <tr>\n",
       "      <th>3</th>\n",
       "      <td>Afghanistan</td>\n",
       "      <td>2012</td>\n",
       "      <td>Developing</td>\n",
       "      <td>59.5</td>\n",
       "      <td>272.0</td>\n",
       "      <td>69</td>\n",
       "      <td>0.01</td>\n",
       "      <td>78.184215</td>\n",
       "      <td>67.0</td>\n",
       "      <td>2787</td>\n",
       "      <td>...</td>\n",
       "      <td>17.9</td>\n",
       "      <td>18.0</td>\n",
       "      <td>0.463</td>\n",
       "      <td>9.8</td>\n",
       "      <td>22.9</td>\n",
       "      <td>576.190126</td>\n",
       "      <td>59.0</td>\n",
       "      <td>31161378.0</td>\n",
       "      <td>33</td>\n",
       "      <td>67</td>\n",
       "    </tr>\n",
       "    <tr>\n",
       "      <th>4</th>\n",
       "      <td>Afghanistan</td>\n",
       "      <td>2011</td>\n",
       "      <td>Developing</td>\n",
       "      <td>59.2</td>\n",
       "      <td>275.0</td>\n",
       "      <td>71</td>\n",
       "      <td>0.01</td>\n",
       "      <td>7.097109</td>\n",
       "      <td>68.0</td>\n",
       "      <td>3013</td>\n",
       "      <td>...</td>\n",
       "      <td>18.2</td>\n",
       "      <td>18.2</td>\n",
       "      <td>0.454</td>\n",
       "      <td>9.5</td>\n",
       "      <td>22.8</td>\n",
       "      <td>528.736648</td>\n",
       "      <td>64.0</td>\n",
       "      <td>30117411.0</td>\n",
       "      <td>33</td>\n",
       "      <td>67</td>\n",
       "    </tr>\n",
       "  </tbody>\n",
       "</table>\n",
       "<p>5 rows × 28 columns</p>\n",
       "</div>"
      ],
      "text/plain": [
       "       Country  Year      Status  Life expectancy   Adult Mortality  \\\n",
       "0  Afghanistan  2015  Developing              65.0            263.0   \n",
       "1  Afghanistan  2014  Developing              59.9            271.0   \n",
       "2  Afghanistan  2013  Developing              59.9            268.0   \n",
       "3  Afghanistan  2012  Developing              59.5            272.0   \n",
       "4  Afghanistan  2011  Developing              59.2            275.0   \n",
       "\n",
       "   infant deaths  Alcohol  percentage expenditure  Hepatitis B  Measles   ...  \\\n",
       "0             62     0.01               71.279624         65.0      1154  ...   \n",
       "1             64     0.01               73.523582         62.0       492  ...   \n",
       "2             66     0.01               73.219243         64.0       430  ...   \n",
       "3             69     0.01               78.184215         67.0      2787  ...   \n",
       "4             71     0.01                7.097109         68.0      3013  ...   \n",
       "\n",
       "    thinness  1-19 years   thinness 5-9 years  \\\n",
       "0                   17.2                 17.3   \n",
       "1                   17.5                 17.5   \n",
       "2                   17.7                 17.7   \n",
       "3                   17.9                 18.0   \n",
       "4                   18.2                 18.2   \n",
       "\n",
       "   Income composition of resources  Schooling  New BMI     New GDP  \\\n",
       "0                            0.479       10.1     23.3  574.184114   \n",
       "1                            0.476       10.0     23.2  583.656193   \n",
       "2                            0.470        9.9     23.0  587.565090   \n",
       "3                            0.463        9.8     22.9  576.190126   \n",
       "4                            0.454        9.5     22.8  528.736648   \n",
       "\n",
       "   New Measles  New Population  Latitude  Longitude  \n",
       "0         63.0      34413603.0        33         67  \n",
       "1         60.0      33370804.0        33         67  \n",
       "2         57.0      32269592.0        33         67  \n",
       "3         59.0      31161378.0        33         67  \n",
       "4         64.0      30117411.0        33         67  \n",
       "\n",
       "[5 rows x 28 columns]"
      ]
     },
     "execution_count": 211,
     "metadata": {},
     "output_type": "execute_result"
    }
   ],
   "source": [
    "data.head()"
   ]
  },
  {
   "cell_type": "code",
   "execution_count": 212,
   "metadata": {},
   "outputs": [
    {
     "name": "stdout",
     "output_type": "stream",
     "text": [
      "False    1.0\n",
      "Name: Latitude, dtype: float64\n",
      "False    1.0\n",
      "Name: Longitude, dtype: float64\n"
     ]
    }
   ],
   "source": [
    "print(data['Latitude'].isna().value_counts(normalize=True))\n",
    "print(data['Longitude'].isna().value_counts(normalize=True))"
   ]
  },
  {
   "cell_type": "code",
   "execution_count": 219,
   "metadata": {},
   "outputs": [
    {
     "name": "stderr",
     "output_type": "stream",
     "text": [
      "/anaconda3/lib/python3.7/site-packages/ipykernel_launcher.py:1: SettingWithCopyWarning: \n",
      "A value is trying to be set on a copy of a slice from a DataFrame.\n",
      "Try using .loc[row_indexer,col_indexer] = value instead\n",
      "\n",
      "See the caveats in the documentation: https://pandas.pydata.org/pandas-docs/stable/user_guide/indexing.html#returning-a-view-versus-a-copy\n",
      "  \"\"\"Entry point for launching an IPython kernel.\n",
      "/anaconda3/lib/python3.7/site-packages/ipykernel_launcher.py:2: SettingWithCopyWarning: \n",
      "A value is trying to be set on a copy of a slice from a DataFrame.\n",
      "Try using .loc[row_indexer,col_indexer] = value instead\n",
      "\n",
      "See the caveats in the documentation: https://pandas.pydata.org/pandas-docs/stable/user_guide/indexing.html#returning-a-view-versus-a-copy\n",
      "  \n"
     ]
    },
    {
     "data": {
      "text/html": [
       "<div>\n",
       "<style scoped>\n",
       "    .dataframe tbody tr th:only-of-type {\n",
       "        vertical-align: middle;\n",
       "    }\n",
       "\n",
       "    .dataframe tbody tr th {\n",
       "        vertical-align: top;\n",
       "    }\n",
       "\n",
       "    .dataframe thead th {\n",
       "        text-align: right;\n",
       "    }\n",
       "</style>\n",
       "<table border=\"1\" class=\"dataframe\">\n",
       "  <thead>\n",
       "    <tr style=\"text-align: right;\">\n",
       "      <th></th>\n",
       "      <th>Country</th>\n",
       "      <th>Year</th>\n",
       "      <th>Status</th>\n",
       "      <th>Life expectancy</th>\n",
       "      <th>Adult Mortality</th>\n",
       "      <th>infant deaths</th>\n",
       "      <th>Alcohol</th>\n",
       "      <th>percentage expenditure</th>\n",
       "      <th>Hepatitis B</th>\n",
       "      <th>Measles</th>\n",
       "      <th>...</th>\n",
       "      <th>thinness  1-19 years</th>\n",
       "      <th>thinness 5-9 years</th>\n",
       "      <th>Income composition of resources</th>\n",
       "      <th>Schooling</th>\n",
       "      <th>New BMI</th>\n",
       "      <th>New GDP</th>\n",
       "      <th>New Measles</th>\n",
       "      <th>New Population</th>\n",
       "      <th>Latitude</th>\n",
       "      <th>Longitude</th>\n",
       "    </tr>\n",
       "  </thead>\n",
       "  <tbody>\n",
       "    <tr>\n",
       "      <th>0</th>\n",
       "      <td>Afghanistan</td>\n",
       "      <td>2015</td>\n",
       "      <td>Developing</td>\n",
       "      <td>65.0</td>\n",
       "      <td>263.0</td>\n",
       "      <td>62</td>\n",
       "      <td>0.01</td>\n",
       "      <td>71.279624</td>\n",
       "      <td>65.0</td>\n",
       "      <td>1154</td>\n",
       "      <td>...</td>\n",
       "      <td>17.2</td>\n",
       "      <td>17.3</td>\n",
       "      <td>0.479</td>\n",
       "      <td>10.1</td>\n",
       "      <td>23.3</td>\n",
       "      <td>574.184114</td>\n",
       "      <td>63.0</td>\n",
       "      <td>34413603.0</td>\n",
       "      <td>33</td>\n",
       "      <td>67</td>\n",
       "    </tr>\n",
       "    <tr>\n",
       "      <th>1</th>\n",
       "      <td>Afghanistan</td>\n",
       "      <td>2014</td>\n",
       "      <td>Developing</td>\n",
       "      <td>59.9</td>\n",
       "      <td>271.0</td>\n",
       "      <td>64</td>\n",
       "      <td>0.01</td>\n",
       "      <td>73.523582</td>\n",
       "      <td>62.0</td>\n",
       "      <td>492</td>\n",
       "      <td>...</td>\n",
       "      <td>17.5</td>\n",
       "      <td>17.5</td>\n",
       "      <td>0.476</td>\n",
       "      <td>10.0</td>\n",
       "      <td>23.2</td>\n",
       "      <td>583.656193</td>\n",
       "      <td>60.0</td>\n",
       "      <td>33370804.0</td>\n",
       "      <td>33</td>\n",
       "      <td>67</td>\n",
       "    </tr>\n",
       "    <tr>\n",
       "      <th>2</th>\n",
       "      <td>Afghanistan</td>\n",
       "      <td>2013</td>\n",
       "      <td>Developing</td>\n",
       "      <td>59.9</td>\n",
       "      <td>268.0</td>\n",
       "      <td>66</td>\n",
       "      <td>0.01</td>\n",
       "      <td>73.219243</td>\n",
       "      <td>64.0</td>\n",
       "      <td>430</td>\n",
       "      <td>...</td>\n",
       "      <td>17.7</td>\n",
       "      <td>17.7</td>\n",
       "      <td>0.470</td>\n",
       "      <td>9.9</td>\n",
       "      <td>23.0</td>\n",
       "      <td>587.565090</td>\n",
       "      <td>57.0</td>\n",
       "      <td>32269592.0</td>\n",
       "      <td>33</td>\n",
       "      <td>67</td>\n",
       "    </tr>\n",
       "    <tr>\n",
       "      <th>3</th>\n",
       "      <td>Afghanistan</td>\n",
       "      <td>2012</td>\n",
       "      <td>Developing</td>\n",
       "      <td>59.5</td>\n",
       "      <td>272.0</td>\n",
       "      <td>69</td>\n",
       "      <td>0.01</td>\n",
       "      <td>78.184215</td>\n",
       "      <td>67.0</td>\n",
       "      <td>2787</td>\n",
       "      <td>...</td>\n",
       "      <td>17.9</td>\n",
       "      <td>18.0</td>\n",
       "      <td>0.463</td>\n",
       "      <td>9.8</td>\n",
       "      <td>22.9</td>\n",
       "      <td>576.190126</td>\n",
       "      <td>59.0</td>\n",
       "      <td>31161378.0</td>\n",
       "      <td>33</td>\n",
       "      <td>67</td>\n",
       "    </tr>\n",
       "    <tr>\n",
       "      <th>4</th>\n",
       "      <td>Afghanistan</td>\n",
       "      <td>2011</td>\n",
       "      <td>Developing</td>\n",
       "      <td>59.2</td>\n",
       "      <td>275.0</td>\n",
       "      <td>71</td>\n",
       "      <td>0.01</td>\n",
       "      <td>7.097109</td>\n",
       "      <td>68.0</td>\n",
       "      <td>3013</td>\n",
       "      <td>...</td>\n",
       "      <td>18.2</td>\n",
       "      <td>18.2</td>\n",
       "      <td>0.454</td>\n",
       "      <td>9.5</td>\n",
       "      <td>22.8</td>\n",
       "      <td>528.736648</td>\n",
       "      <td>64.0</td>\n",
       "      <td>30117411.0</td>\n",
       "      <td>33</td>\n",
       "      <td>67</td>\n",
       "    </tr>\n",
       "  </tbody>\n",
       "</table>\n",
       "<p>5 rows × 28 columns</p>\n",
       "</div>"
      ],
      "text/plain": [
       "       Country  Year      Status  Life expectancy   Adult Mortality  \\\n",
       "0  Afghanistan  2015  Developing              65.0            263.0   \n",
       "1  Afghanistan  2014  Developing              59.9            271.0   \n",
       "2  Afghanistan  2013  Developing              59.9            268.0   \n",
       "3  Afghanistan  2012  Developing              59.5            272.0   \n",
       "4  Afghanistan  2011  Developing              59.2            275.0   \n",
       "\n",
       "   infant deaths  Alcohol  percentage expenditure  Hepatitis B  Measles   ...  \\\n",
       "0             62     0.01               71.279624         65.0      1154  ...   \n",
       "1             64     0.01               73.523582         62.0       492  ...   \n",
       "2             66     0.01               73.219243         64.0       430  ...   \n",
       "3             69     0.01               78.184215         67.0      2787  ...   \n",
       "4             71     0.01                7.097109         68.0      3013  ...   \n",
       "\n",
       "    thinness  1-19 years   thinness 5-9 years  \\\n",
       "0                   17.2                 17.3   \n",
       "1                   17.5                 17.5   \n",
       "2                   17.7                 17.7   \n",
       "3                   17.9                 18.0   \n",
       "4                   18.2                 18.2   \n",
       "\n",
       "   Income composition of resources  Schooling  New BMI     New GDP  \\\n",
       "0                            0.479       10.1     23.3  574.184114   \n",
       "1                            0.476       10.0     23.2  583.656193   \n",
       "2                            0.470        9.9     23.0  587.565090   \n",
       "3                            0.463        9.8     22.9  576.190126   \n",
       "4                            0.454        9.5     22.8  528.736648   \n",
       "\n",
       "   New Measles  New Population  Latitude  Longitude  \n",
       "0         63.0      34413603.0        33         67  \n",
       "1         60.0      33370804.0        33         67  \n",
       "2         57.0      32269592.0        33         67  \n",
       "3         59.0      31161378.0        33         67  \n",
       "4         64.0      30117411.0        33         67  \n",
       "\n",
       "[5 rows x 28 columns]"
      ]
     },
     "execution_count": 219,
     "metadata": {},
     "output_type": "execute_result"
    }
   ],
   "source": [
    "# data.loc[data.Status == \"Developing\"]['Status Color'] = 0\n",
    "# data.loc[data.Status == \"Developed\"]['Status Color'] = 1\n",
    "# data.head()"
   ]
  },
  {
   "cell_type": "code",
   "execution_count": 214,
   "metadata": {},
   "outputs": [],
   "source": [
    "data.dropna(subset = ['Life expectancy '], inplace = True)"
   ]
  },
  {
   "cell_type": "code",
   "execution_count": 215,
   "metadata": {},
   "outputs": [
    {
     "data": {
      "text/plain": [
       "(2928, 28)"
      ]
     },
     "execution_count": 215,
     "metadata": {},
     "output_type": "execute_result"
    }
   ],
   "source": [
    "data.shape"
   ]
  },
  {
   "cell_type": "code",
   "execution_count": 216,
   "metadata": {},
   "outputs": [
    {
     "data": {
      "text/plain": [
       "Index(['Country', 'Year', 'Status', 'Life expectancy ', 'Adult Mortality',\n",
       "       'infant deaths', 'Alcohol', 'percentage expenditure', 'Hepatitis B',\n",
       "       'Measles ', ' BMI ', 'under-five deaths ', 'Polio', 'Total expenditure',\n",
       "       'Diphtheria ', ' HIV/AIDS', 'GDP', 'Population',\n",
       "       ' thinness  1-19 years', ' thinness 5-9 years',\n",
       "       'Income composition of resources', 'Schooling', 'New BMI', 'New GDP',\n",
       "       'New Measles', 'New Population', 'Latitude', 'Longitude'],\n",
       "      dtype='object')"
      ]
     },
     "execution_count": 216,
     "metadata": {},
     "output_type": "execute_result"
    }
   ],
   "source": [
    "data.columns"
   ]
  },
  {
   "cell_type": "code",
   "execution_count": 217,
   "metadata": {},
   "outputs": [
    {
     "ename": "KeyError",
     "evalue": "\"['Status Color'] not in index\"",
     "output_type": "error",
     "traceback": [
      "\u001b[0;31m---------------------------------------------------------------------------\u001b[0m",
      "\u001b[0;31mKeyError\u001b[0m                                  Traceback (most recent call last)",
      "\u001b[0;32m<ipython-input-217-d33c738cd0d6>\u001b[0m in \u001b[0;36m<module>\u001b[0;34m\u001b[0m\n\u001b[1;32m      4\u001b[0m        \u001b[0;34m' thinness  1-19 years'\u001b[0m\u001b[0;34m,\u001b[0m \u001b[0;34m' thinness 5-9 years'\u001b[0m\u001b[0;34m,\u001b[0m\u001b[0;34m\u001b[0m\u001b[0;34m\u001b[0m\u001b[0m\n\u001b[1;32m      5\u001b[0m        \u001b[0;34m'Income composition of resources'\u001b[0m\u001b[0;34m,\u001b[0m \u001b[0;34m'Schooling'\u001b[0m\u001b[0;34m,\u001b[0m \u001b[0;34m'New BMI'\u001b[0m\u001b[0;34m,\u001b[0m \u001b[0;34m'New GDP'\u001b[0m\u001b[0;34m,\u001b[0m\u001b[0;34m\u001b[0m\u001b[0;34m\u001b[0m\u001b[0m\n\u001b[0;32m----> 6\u001b[0;31m        'New Measles', 'New Population', 'Latitude', 'Longitude', 'Status Color']]\n\u001b[0m",
      "\u001b[0;32m/anaconda3/lib/python3.7/site-packages/pandas/core/frame.py\u001b[0m in \u001b[0;36m__getitem__\u001b[0;34m(self, key)\u001b[0m\n\u001b[1;32m   3028\u001b[0m             \u001b[0;32mif\u001b[0m \u001b[0mis_iterator\u001b[0m\u001b[0;34m(\u001b[0m\u001b[0mkey\u001b[0m\u001b[0;34m)\u001b[0m\u001b[0;34m:\u001b[0m\u001b[0;34m\u001b[0m\u001b[0;34m\u001b[0m\u001b[0m\n\u001b[1;32m   3029\u001b[0m                 \u001b[0mkey\u001b[0m \u001b[0;34m=\u001b[0m \u001b[0mlist\u001b[0m\u001b[0;34m(\u001b[0m\u001b[0mkey\u001b[0m\u001b[0;34m)\u001b[0m\u001b[0;34m\u001b[0m\u001b[0;34m\u001b[0m\u001b[0m\n\u001b[0;32m-> 3030\u001b[0;31m             \u001b[0mindexer\u001b[0m \u001b[0;34m=\u001b[0m \u001b[0mself\u001b[0m\u001b[0;34m.\u001b[0m\u001b[0mloc\u001b[0m\u001b[0;34m.\u001b[0m\u001b[0m_get_listlike_indexer\u001b[0m\u001b[0;34m(\u001b[0m\u001b[0mkey\u001b[0m\u001b[0;34m,\u001b[0m \u001b[0maxis\u001b[0m\u001b[0;34m=\u001b[0m\u001b[0;36m1\u001b[0m\u001b[0;34m,\u001b[0m \u001b[0mraise_missing\u001b[0m\u001b[0;34m=\u001b[0m\u001b[0;32mTrue\u001b[0m\u001b[0;34m)\u001b[0m\u001b[0;34m[\u001b[0m\u001b[0;36m1\u001b[0m\u001b[0;34m]\u001b[0m\u001b[0;34m\u001b[0m\u001b[0;34m\u001b[0m\u001b[0m\n\u001b[0m\u001b[1;32m   3031\u001b[0m \u001b[0;34m\u001b[0m\u001b[0m\n\u001b[1;32m   3032\u001b[0m         \u001b[0;31m# take() does not accept boolean indexers\u001b[0m\u001b[0;34m\u001b[0m\u001b[0;34m\u001b[0m\u001b[0;34m\u001b[0m\u001b[0m\n",
      "\u001b[0;32m/anaconda3/lib/python3.7/site-packages/pandas/core/indexing.py\u001b[0m in \u001b[0;36m_get_listlike_indexer\u001b[0;34m(self, key, axis, raise_missing)\u001b[0m\n\u001b[1;32m   1264\u001b[0m             \u001b[0mkeyarr\u001b[0m\u001b[0;34m,\u001b[0m \u001b[0mindexer\u001b[0m\u001b[0;34m,\u001b[0m \u001b[0mnew_indexer\u001b[0m \u001b[0;34m=\u001b[0m \u001b[0max\u001b[0m\u001b[0;34m.\u001b[0m\u001b[0m_reindex_non_unique\u001b[0m\u001b[0;34m(\u001b[0m\u001b[0mkeyarr\u001b[0m\u001b[0;34m)\u001b[0m\u001b[0;34m\u001b[0m\u001b[0;34m\u001b[0m\u001b[0m\n\u001b[1;32m   1265\u001b[0m \u001b[0;34m\u001b[0m\u001b[0m\n\u001b[0;32m-> 1266\u001b[0;31m         \u001b[0mself\u001b[0m\u001b[0;34m.\u001b[0m\u001b[0m_validate_read_indexer\u001b[0m\u001b[0;34m(\u001b[0m\u001b[0mkeyarr\u001b[0m\u001b[0;34m,\u001b[0m \u001b[0mindexer\u001b[0m\u001b[0;34m,\u001b[0m \u001b[0maxis\u001b[0m\u001b[0;34m,\u001b[0m \u001b[0mraise_missing\u001b[0m\u001b[0;34m=\u001b[0m\u001b[0mraise_missing\u001b[0m\u001b[0;34m)\u001b[0m\u001b[0;34m\u001b[0m\u001b[0;34m\u001b[0m\u001b[0m\n\u001b[0m\u001b[1;32m   1267\u001b[0m         \u001b[0;32mreturn\u001b[0m \u001b[0mkeyarr\u001b[0m\u001b[0;34m,\u001b[0m \u001b[0mindexer\u001b[0m\u001b[0;34m\u001b[0m\u001b[0;34m\u001b[0m\u001b[0m\n\u001b[1;32m   1268\u001b[0m \u001b[0;34m\u001b[0m\u001b[0m\n",
      "\u001b[0;32m/anaconda3/lib/python3.7/site-packages/pandas/core/indexing.py\u001b[0m in \u001b[0;36m_validate_read_indexer\u001b[0;34m(self, key, indexer, axis, raise_missing)\u001b[0m\n\u001b[1;32m   1314\u001b[0m             \u001b[0;32mif\u001b[0m \u001b[0mraise_missing\u001b[0m\u001b[0;34m:\u001b[0m\u001b[0;34m\u001b[0m\u001b[0;34m\u001b[0m\u001b[0m\n\u001b[1;32m   1315\u001b[0m                 \u001b[0mnot_found\u001b[0m \u001b[0;34m=\u001b[0m \u001b[0mlist\u001b[0m\u001b[0;34m(\u001b[0m\u001b[0mset\u001b[0m\u001b[0;34m(\u001b[0m\u001b[0mkey\u001b[0m\u001b[0;34m)\u001b[0m \u001b[0;34m-\u001b[0m \u001b[0mset\u001b[0m\u001b[0;34m(\u001b[0m\u001b[0max\u001b[0m\u001b[0;34m)\u001b[0m\u001b[0;34m)\u001b[0m\u001b[0;34m\u001b[0m\u001b[0;34m\u001b[0m\u001b[0m\n\u001b[0;32m-> 1316\u001b[0;31m                 \u001b[0;32mraise\u001b[0m \u001b[0mKeyError\u001b[0m\u001b[0;34m(\u001b[0m\u001b[0;34mf\"{not_found} not in index\"\u001b[0m\u001b[0;34m)\u001b[0m\u001b[0;34m\u001b[0m\u001b[0;34m\u001b[0m\u001b[0m\n\u001b[0m\u001b[1;32m   1317\u001b[0m \u001b[0;34m\u001b[0m\u001b[0m\n\u001b[1;32m   1318\u001b[0m             \u001b[0mnot_found\u001b[0m \u001b[0;34m=\u001b[0m \u001b[0mkey\u001b[0m\u001b[0;34m[\u001b[0m\u001b[0mmissing_mask\u001b[0m\u001b[0;34m]\u001b[0m\u001b[0;34m\u001b[0m\u001b[0;34m\u001b[0m\u001b[0m\n",
      "\u001b[0;31mKeyError\u001b[0m: \"['Status Color'] not in index\""
     ]
    }
   ],
   "source": [
    "data = data[['Country', 'Year', 'Status', 'Life expectancy ', 'Adult Mortality',\n",
    "       'infant deaths', 'Alcohol', 'percentage expenditure', 'Hepatitis B', 'under-five deaths ', 'Polio', 'Total expenditure',\n",
    "       'Diphtheria ', ' HIV/AIDS',\n",
    "       ' thinness  1-19 years', ' thinness 5-9 years',\n",
    "       'Income composition of resources', 'Schooling', 'New BMI', 'New GDP',\n",
    "       'New Measles', 'New Population', 'Latitude', 'Longitude']]"
   ]
  },
  {
   "cell_type": "code",
   "execution_count": null,
   "metadata": {},
   "outputs": [],
   "source": [
    "data.columns"
   ]
  },
  {
   "cell_type": "code",
   "execution_count": null,
   "metadata": {},
   "outputs": [],
   "source": [
    "data.head()"
   ]
  },
  {
   "cell_type": "markdown",
   "metadata": {},
   "source": [
    "# General Trends"
   ]
  },
  {
   "cell_type": "code",
   "execution_count": null,
   "metadata": {},
   "outputs": [],
   "source": [
    "overall_average = data.groupby(['Year'])\n",
    "overall_average = overall_average.aggregate({'Life expectancy ' : 'mean'})\n",
    "\n",
    "#overall_average.head(16)\n",
    "plt.plot(overall_average.index, overall_average['Life expectancy '])\n",
    "\n",
    "plt.xlabel('Year')\n",
    "plt.ylabel('Average Life Expectancy')\n",
    "plt.title('Average Life Expectancy vs Year')\n",
    "plt.savefig('Average Life Expectancy vs Year 1.jpg')\n",
    "plt.show()"
   ]
  },
  {
   "cell_type": "markdown",
   "metadata": {},
   "source": [
    "# Average Life Expectancy by Country"
   ]
  },
  {
   "cell_type": "code",
   "execution_count": null,
   "metadata": {},
   "outputs": [],
   "source": [
    "mask1 = data['Country'] == 'United States of America'\n",
    "mask2 = data['Country'] == 'Saudi Arabia'\n",
    "mask3 = data['Country'] == 'China'\n",
    "mask4 = data['Country'] == 'India'\n",
    "USA_average = data[mask1]\n",
    "Saudi_average = data[mask2]\n",
    "China_average = data[mask3]\n",
    "India_average = data[mask4]"
   ]
  },
  {
   "cell_type": "code",
   "execution_count": null,
   "metadata": {},
   "outputs": [],
   "source": [
    "plt.plot(USA_average['Year'], USA_average['Life expectancy '], label = \"USA\")\n",
    "plt.plot(Saudi_average['Year'], Saudi_average['Life expectancy '], label = \"Saudi Arabia\")\n",
    "plt.plot(China_average['Year'], China_average['Life expectancy '], label = \"China\")\n",
    "plt.plot(India_average['Year'], India_average['Life expectancy '], label = \"India\")\n",
    "plt.legend()\n",
    "\n",
    "plt.xlabel('Year')\n",
    "plt.ylabel('Average Life Expectancy')\n",
    "plt.title('Average Life Expectancy vs Year')\n",
    "plt.savefig('Average Life Expectancy vs Year 2.jpg')\n",
    "\n",
    "plt.show()"
   ]
  },
  {
   "cell_type": "code",
   "execution_count": null,
   "metadata": {},
   "outputs": [],
   "source": [
    "country_average = data.groupby(['Country'])\n",
    "country_average = country_average.aggregate({'Life expectancy ' : 'mean'}).sort_values(\"Life expectancy \")\n",
    "country_average = country_average.head(5).append(country_average.tail(5))\n",
    "country_average.head()\n",
    "\n",
    "#colors=np.random.rand(183)\n",
    "\n",
    "# plt.figure(figsize=(10,40))\n",
    "plt.barh(country_average.index, country_average['Life expectancy '], align='edge')\n",
    "\n",
    "plt.title('Country Life Expectency (top 5 and bottom 5)')\n",
    "plt.xlabel('Life Expectency')\n",
    "plt.ylabel('Country')\n",
    "plt.savefig('CountrysAverage.jpg')\n",
    "plt.show()"
   ]
  },
  {
   "cell_type": "code",
   "execution_count": null,
   "metadata": {},
   "outputs": [],
   "source": [
    "#data['Status'].isnull().value_counts(normalize = True)\n",
    "aggre_data = data.groupby('Status')['Life expectancy '].sum()/data.groupby('Status')['Life expectancy '].count()\n",
    "aggre_data = pd.DataFrame(aggre_data)\n",
    "\n",
    "bar_width = 0.7\n",
    "opacity = 0.7\n",
    "plt.figure(figsize=(3,4))\n",
    "\n",
    "plt.bar(aggre_data.index, aggre_data['Life expectancy '], bar_width,alpha=opacity,color='b')\n",
    "plt.tight_layout()\n",
    "plt.title('Country Status vs Life Expectency')\n",
    "plt.xlabel('Status')\n",
    "plt.ylabel('Life Expectency')\n",
    "plt.savefig('Country Status vs Life Expectency.jpg')\n",
    "plt.show()"
   ]
  },
  {
   "cell_type": "markdown",
   "metadata": {},
   "source": [
    "# Schooling Dataset"
   ]
  },
  {
   "cell_type": "code",
   "execution_count": null,
   "metadata": {},
   "outputs": [],
   "source": [
    "schooling = data[['Country', 'Year', 'Status', 'Life expectancy ', 'Schooling','New Population']]"
   ]
  },
  {
   "cell_type": "code",
   "execution_count": null,
   "metadata": {},
   "outputs": [],
   "source": [
    "schooling.head()"
   ]
  },
  {
   "cell_type": "code",
   "execution_count": null,
   "metadata": {},
   "outputs": [],
   "source": [
    "schooling = schooling.dropna(subset=[\"Schooling\"]).copy()"
   ]
  },
  {
   "cell_type": "code",
   "execution_count": null,
   "metadata": {},
   "outputs": [],
   "source": [
    "print(schooling['Schooling'].isna().value_counts(normalize=True))"
   ]
  },
  {
   "cell_type": "code",
   "execution_count": null,
   "metadata": {},
   "outputs": [],
   "source": [
    "#reference: https://realpython.com/python-histograms/ \n",
    "plt.hist(x=schooling['Schooling'], rwidth=0.85)\n",
    "plt.xlabel('Years of Schooling')\n",
    "plt.ylabel('Frequency')\n",
    "plt.title('Histograms of Schooling')\n",
    "plt.show()"
   ]
  },
  {
   "cell_type": "code",
   "execution_count": null,
   "metadata": {},
   "outputs": [],
   "source": [
    "schooling.boxplot(column = ['Schooling'])"
   ]
  },
  {
   "cell_type": "code",
   "execution_count": null,
   "metadata": {},
   "outputs": [],
   "source": [
    "Q1 = schooling['Schooling'].quantile(q=0.25)\n",
    "Q3 = schooling['Schooling'].quantile(q=0.75)\n",
    "mask1 = (schooling['Schooling'] < Q3 + 1.5 * (Q3-Q1)) & (schooling['Schooling'] > Q1 - 1.5 * (Q3-Q1))\n",
    "schooling = schooling[mask1]"
   ]
  },
  {
   "cell_type": "code",
   "execution_count": null,
   "metadata": {},
   "outputs": [],
   "source": [
    "plt.hist(x=schooling['Schooling'], rwidth=0.85)\n",
    "plt.xlabel('Years of Schooling')\n",
    "plt.ylabel('Frequency')\n",
    "plt.title('Histograms of Schooling')\n",
    "plt.show()"
   ]
  },
  {
   "cell_type": "code",
   "execution_count": null,
   "metadata": {},
   "outputs": [],
   "source": [
    "print(schooling.corr())\n",
    "plt.scatter(schooling['Schooling'], schooling['Life expectancy '], marker=\".\", color = \"y\")\n",
    "model = np.poly1d(np.polyfit(schooling['Schooling'], schooling['Life expectancy '], 1))\n",
    "polyline = np.linspace(0,22)\n",
    "plt.plot(polyline, model(polyline))\n",
    "print(model)\n",
    "plt.title('Life Expectancy vs Schooling')\n",
    "plt.xlabel('Schooling')\n",
    "plt.ylabel(\"Life Expectancy\")\n",
    "plt.show()"
   ]
  },
  {
   "cell_type": "markdown",
   "metadata": {},
   "source": [
    "# Correlation Matrix"
   ]
  },
  {
   "cell_type": "code",
   "execution_count": null,
   "metadata": {},
   "outputs": [],
   "source": [
    "import seaborn as sns\n",
    "\n",
    "corr = data.corr()\n",
    "plt.figure(figsize=(15,15))\n",
    "sns.heatmap(corr, square=True, annot=True, linewidth=0.5, cmap='Blues')\n",
    "plt.title(\"Correlation Matrix\")\n",
    "plt.show()"
   ]
  },
  {
   "cell_type": "markdown",
   "metadata": {},
   "source": [
    "# Income Composition"
   ]
  },
  {
   "cell_type": "code",
   "execution_count": null,
   "metadata": {},
   "outputs": [],
   "source": [
    "income_comp = data[['Country', 'Year', 'Status', 'Life expectancy ', 'Income composition of resources','New Population']]\n",
    "income_comp = income_comp.dropna(subset=[\"Income composition of resources\"]).copy()\n",
    "\n",
    "plt.hist(x=income_comp['Income composition of resources'], rwidth=0.85)\n",
    "plt.xlabel('Income Composition')\n",
    "plt.ylabel('Frequency')\n",
    "plt.title('Histogram of Income Composition')\n",
    "plt.show()\n",
    "\n",
    "income_comp.boxplot(column = ['Income composition of resources'])\n",
    "plt.show()\n",
    "\n",
    "Q1 = income_comp['Income composition of resources'].quantile(q=0.25)\n",
    "Q3 = income_comp['Income composition of resources'].quantile(q=0.75)\n",
    "mask1 = (income_comp['Income composition of resources'] < Q3 + 1.5 * (Q3-Q1)) & (income_comp['Income composition of resources'] > Q1 - 1.5 * (Q3-Q1))\n",
    "income_comp = income_comp[mask1]\n",
    "\n",
    "plt.hist(x=income_comp['Income composition of resources'], rwidth=0.85)\n",
    "plt.xlabel('Income Composition')\n",
    "plt.ylabel('Frequency')\n",
    "plt.title('Histogram of Income Composition')\n",
    "plt.show()\n",
    "\n",
    "plt.scatter(income_comp['Income composition of resources'], income_comp['Life expectancy '], marker=\".\", color = \"y\")\n",
    "model = np.poly1d(np.polyfit(income_comp['Income composition of resources'], income_comp['Life expectancy '], 1))\n",
    "polyline = np.linspace(0,1)\n",
    "plt.plot(polyline, model(polyline))\n",
    "print(model)\n",
    "plt.title('Life Expectancy vs Income Composition')\n",
    "plt.xlabel('Income Composition')\n",
    "plt.ylabel(\"Life Expectancy\")\n",
    "plt.show()"
   ]
  },
  {
   "cell_type": "markdown",
   "metadata": {},
   "source": [
    "# Population"
   ]
  },
  {
   "cell_type": "code",
   "execution_count": null,
   "metadata": {},
   "outputs": [],
   "source": [
    "population = data[['Country', 'Year', 'Status', 'Life expectancy ', 'New Population']]\n",
    "population = population.dropna(subset=[\"New Population\"]).copy()\n",
    "\n",
    "# plt.hist(x=population['New Population'], rwidth=0.85)\n",
    "# plt.xlabel('Population')\n",
    "# plt.ylabel('Frequency')\n",
    "# plt.title('Histogram of Population')\n",
    "# plt.show()\n",
    "\n",
    "# population.boxplot(column = ['New Population'])\n",
    "# plt.show()\n",
    "\n",
    "# Q1 = population['New Population'].quantile(q=0.25)\n",
    "# Q3 = population['New Population'].quantile(q=0.75)\n",
    "# mask1 = (population['New Population'] < Q3 + 1.5 * (Q3-Q1)) & (population['New Population'] > Q1 - 1.5 * (Q3-Q1))\n",
    "# population = population[mask1]\n",
    "\n",
    "# plt.hist(x=population['New Population'], rwidth=0.85)\n",
    "# plt.xlabel('Population')\n",
    "# plt.ylabel('Frequency')\n",
    "# plt.title('Histogram of Population')\n",
    "# plt.show()\n",
    "\n",
    "plt.scatter(population['New Population'], population['Life expectancy '], marker=\".\", color = \"y\")\n",
    "model = np.poly1d(np.polyfit(population['New Population'], population['Life expectancy '], 2))\n",
    "polyline = np.linspace(0,1.4e9)\n",
    "plt.plot(polyline, model(polyline))\n",
    "print(model)\n",
    "plt.title('Life Expectancy vs Population')\n",
    "plt.xlabel('Population')\n",
    "plt.ylabel(\"Life Expectancy\")\n",
    "plt.show()"
   ]
  },
  {
   "cell_type": "markdown",
   "metadata": {},
   "source": [
    "# Thinness"
   ]
  },
  {
   "cell_type": "code",
   "execution_count": null,
   "metadata": {},
   "outputs": [],
   "source": [
    "thinness = data[['Country', 'Year', 'Status', 'Life expectancy ', ' thinness  1-19 years','New Population']]\n",
    "thinness = thinness.dropna(subset=[\" thinness  1-19 years\"]).copy()\n",
    "\n",
    "plt.hist(x=thinness[' thinness  1-19 years'], rwidth=0.85)\n",
    "plt.xlabel('Thinness (1-19)')\n",
    "plt.ylabel('Frequency')\n",
    "plt.title('Histogram of Thinness (1-19)')\n",
    "plt.show()\n",
    "\n",
    "thinness.boxplot(column = [' thinness  1-19 years'])\n",
    "plt.show()\n",
    "\n",
    "Q1 = thinness[' thinness  1-19 years'].quantile(q=0.25)\n",
    "Q3 = thinness[' thinness  1-19 years'].quantile(q=0.75)\n",
    "mask1 = (thinness[' thinness  1-19 years'] < Q3 + 1.5 * (Q3-Q1)) & (thinness[' thinness  1-19 years'] > Q1 - 1.5 * (Q3-Q1))\n",
    "thinness = thinness[mask1]\n",
    "\n",
    "plt.hist(x=thinness[' thinness  1-19 years'], rwidth=0.85)\n",
    "plt.xlabel('Thinness (1-19)')\n",
    "plt.ylabel('Frequency')\n",
    "plt.title('Histogram of Thinness (1-19)')\n",
    "plt.show()\n",
    "\n",
    "plt.scatter(thinness[' thinness  1-19 years'], thinness['Life expectancy '], marker=\".\", color = \"y\")\n",
    "model = np.poly1d(np.polyfit(thinness[' thinness  1-19 years'], thinness['Life expectancy '], 1))\n",
    "polyline = np.linspace(0,16)\n",
    "plt.plot(polyline, model(polyline))\n",
    "print(model)\n",
    "plt.title('Life Expectancy vs Thinness (1-19)')\n",
    "plt.xlabel('Thinness (1-19)')\n",
    "plt.ylabel(\"Life Expectancy\")\n",
    "plt.show()"
   ]
  },
  {
   "cell_type": "code",
   "execution_count": null,
   "metadata": {},
   "outputs": [],
   "source": [
    "thinness = data[['Country', 'Year', 'Status', 'Life expectancy ', ' thinness 5-9 years','New Population']]\n",
    "thinness = thinness.dropna(subset=[\" thinness 5-9 years\"]).copy()\n",
    "\n",
    "plt.hist(x=thinness[' thinness 5-9 years'], rwidth=0.85)\n",
    "plt.xlabel('Thinness (5-9)')\n",
    "plt.ylabel('Frequency')\n",
    "plt.title('Histogram of Thinness (5-9)')\n",
    "plt.show()\n",
    "\n",
    "thinness.boxplot(column = [' thinness 5-9 years'])\n",
    "plt.show()\n",
    "\n",
    "Q1 = thinness[' thinness 5-9 years'].quantile(q=0.25)\n",
    "Q3 = thinness[' thinness 5-9 years'].quantile(q=0.75)\n",
    "mask1 = (thinness[' thinness 5-9 years'] < Q3 + 1.5 * (Q3-Q1)) & (thinness[' thinness 5-9 years'] > Q1 - 1.5 * (Q3-Q1))\n",
    "thinness = thinness[mask1]\n",
    "\n",
    "plt.hist(x=thinness[' thinness 5-9 years'], rwidth=0.85)\n",
    "plt.xlabel('Thinness (5-9)')\n",
    "plt.ylabel('Frequency')\n",
    "plt.title('Histogram of Thinness (5-9)')\n",
    "plt.show()\n",
    "\n",
    "plt.scatter(thinness[' thinness 5-9 years'], thinness['Life expectancy '], marker=\".\", color = \"y\")\n",
    "model = np.poly1d(np.polyfit(thinness[' thinness 5-9 years'], thinness['Life expectancy '], 1))\n",
    "polyline = np.linspace(0,16)\n",
    "plt.plot(polyline, model(polyline))\n",
    "print(model)\n",
    "plt.title('Life Expectancy vs Thinness (5-9)')\n",
    "plt.xlabel('Thinness (5-9)')\n",
    "plt.ylabel(\"Life Expectancy\")\n",
    "plt.show()"
   ]
  },
  {
   "cell_type": "markdown",
   "metadata": {},
   "source": [
    "# Alcohol\n"
   ]
  },
  {
   "cell_type": "code",
   "execution_count": 224,
   "metadata": {},
   "outputs": [
    {
     "data": {
      "image/png": "[encoded data removed]",
      "text/plain": [
       "<Figure size 432x288 with 1 Axes>"
      ]
     },
     "metadata": {
      "needs_background": "light"
     },
     "output_type": "display_data"
    },
    {
     "data": {
      "image/png": "[encoded data removed]",
      "text/plain": [
       "<Figure size 432x288 with 1 Axes>"
      ]
     },
     "metadata": {
      "needs_background": "light"
     },
     "output_type": "display_data"
    },
    {
     "name": "stdout",
     "output_type": "stream",
     "text": [
      "          3          2\n",
      "-0.01613 x + 0.3373 x - 0.8173 x + 66.1\n"
     ]
    },
    {
     "data": {
      "image/png": "[encoded data removed]",
      "text/plain": [
       "<Figure size 432x288 with 1 Axes>"
      ]
     },
     "metadata": {
      "needs_background": "light"
     },
     "output_type": "display_data"
    }
   ],
   "source": [
    "alcohol = data[['Country', 'Year', 'Status', 'Life expectancy ', 'Alcohol','New Population']]\n",
    "alcohol = alcohol.dropna(subset=[\"Alcohol\"]).copy()\n",
    "\n",
    "plt.hist(x=alcohol['Alcohol'], rwidth=0.85)\n",
    "plt.xlabel('Alcohol')\n",
    "plt.ylabel('Frequency')\n",
    "plt.title('Histogram of Alcohol')\n",
    "plt.show()\n",
    "\n",
    "alcohol.boxplot(column = ['Alcohol'])\n",
    "plt.show()\n",
    "\n",
    "# Q1 = alcohol['Alcohol'].quantile(q=0.25)\n",
    "# Q3 = alcohol['Alcohol'].quantile(q=0.75)\n",
    "# mask1 = (alcohol['Alcohol'] < Q3 + 1.5 * (Q3-Q1)) & (alcohol['Alcohol'] > Q1 - 1.5 * (Q3-Q1))\n",
    "# alcohol = alcohol[mask1]\n",
    "\n",
    "# plt.hist(x=alcohol['Alcohol'], rwidth=0.85)\n",
    "# plt.xlabel('Alcohol')\n",
    "# plt.ylabel('Frequency')\n",
    "# plt.title('Histogram of Alcohol')\n",
    "# plt.show()\n",
    "\n",
    "plt.scatter(alcohol['Alcohol'], alcohol['Life expectancy '], marker=\".\", color = \"y\")\n",
    "model = np.poly1d(np.polyfit(alcohol['Alcohol'], alcohol['Life expectancy '], 3))\n",
    "polyline = np.linspace(0,17.5)\n",
    "plt.plot(polyline, model(polyline))\n",
    "print(model)\n",
    "plt.title('Life Expectancy vs Alcohol')\n",
    "plt.xlabel('Alcohol')\n",
    "plt.ylabel(\"Life Expectancy\")\n",
    "plt.show()"
   ]
  },
  {
   "cell_type": "markdown",
   "metadata": {},
   "source": [
    "# Total Expenditure"
   ]
  },
  {
   "cell_type": "code",
   "execution_count": 223,
   "metadata": {},
   "outputs": [
    {
     "data": {
      "image/png": "[encoded data removed]",
      "text/plain": [
       "<Figure size 432x288 with 1 Axes>"
      ]
     },
     "metadata": {
      "needs_background": "light"
     },
     "output_type": "display_data"
    },
    {
     "data": {
      "image/png": "[encoded data removed]",
      "text/plain": [
       "<Figure size 432x288 with 1 Axes>"
      ]
     },
     "metadata": {
      "needs_background": "light"
     },
     "output_type": "display_data"
    },
    {
     "data": {
      "image/png": "[encoded data removed]",
      "text/plain": [
       "<Figure size 432x288 with 1 Axes>"
      ]
     },
     "metadata": {
      "needs_background": "light"
     },
     "output_type": "display_data"
    },
    {
     "name": "stdout",
     "output_type": "stream",
     "text": [
      " \n",
      "0.9213 x + 63.83\n"
     ]
    },
    {
     "data": {
      "image/png": "[encoded data removed]",
      "text/plain": [
       "<Figure size 432x288 with 1 Axes>"
      ]
     },
     "metadata": {
      "needs_background": "light"
     },
     "output_type": "display_data"
    }
   ],
   "source": [
    "total_expend = data[['Country', 'Year', 'Status', 'Life expectancy ', 'Total expenditure','New Population']]\n",
    "total_expend = total_expend.dropna(subset=[\"Total expenditure\"]).copy()\n",
    "\n",
    "plt.hist(x=total_expend['Total expenditure'], rwidth=0.85)\n",
    "plt.xlabel('Total expenditure')\n",
    "plt.ylabel('Frequency')\n",
    "plt.title('Histogram of total_expend')\n",
    "plt.show()\n",
    "\n",
    "total_expend.boxplot(column = ['Total expenditure'])\n",
    "plt.show()\n",
    "\n",
    "Q1 = total_expend['Total expenditure'].quantile(q=0.25)\n",
    "Q3 = total_expend['Total expenditure'].quantile(q=0.75)\n",
    "mask1 = (total_expend['Total expenditure'] < Q3 + 1.5 * (Q3-Q1)) & (total_expend['Total expenditure'] > Q1 - 1.5 * (Q3-Q1))\n",
    "total_expend = total_expend[mask1]\n",
    "\n",
    "plt.hist(x=total_expend['Total expenditure'], rwidth=0.85)\n",
    "plt.xlabel('Total expenditure')\n",
    "plt.ylabel('Frequency')\n",
    "plt.title('Histogram of total_expend')\n",
    "plt.show()\n",
    "\n",
    "plt.scatter(total_expend['Total expenditure'], total_expend['Life expectancy '], marker=\".\", color='y')\n",
    "model = np.poly1d(np.polyfit(total_expend['Total expenditure'], total_expend['Life expectancy '], 1))\n",
    "polyline = np.linspace(0,12)\n",
    "plt.plot(polyline, model(polyline))\n",
    "print(model)\n",
    "plt.title('Life Expectancy vs total_expend')\n",
    "plt.xlabel('Total expenditure')\n",
    "plt.ylabel(\"Life Expectancy\")\n",
    "plt.show()"
   ]
  },
  {
   "cell_type": "code",
   "execution_count": 235,
   "metadata": {},
   "outputs": [
    {
     "data": {
      "image/png": "[encoded data removed]",
      "text/plain": [
       "<Figure size 432x288 with 1 Axes>"
      ]
     },
     "metadata": {
      "needs_background": "light"
     },
     "output_type": "display_data"
    },
    {
     "data": {
      "image/png": "[encoded data removed]",
      "text/plain": [
       "<Figure size 432x288 with 1 Axes>"
      ]
     },
     "metadata": {
      "needs_background": "light"
     },
     "output_type": "display_data"
    },
    {
     "name": "stdout",
     "output_type": "stream",
     "text": [
      " \n",
      "0.001827 x + 67.87\n"
     ]
    },
    {
     "data": {
      "image/png": "[encoded data removed]",
      "text/plain": [
       "<Figure size 432x288 with 1 Axes>"
      ]
     },
     "metadata": {
      "needs_background": "light"
     },
     "output_type": "display_data"
    }
   ],
   "source": [
    "percent_expend = data[['Country', 'Year', 'Status', 'Life expectancy ', 'percentage expenditure','New Population']]\n",
    "percent_expend = percent_expend.dropna(subset=[\"percentage expenditure\"]).copy()\n",
    "\n",
    "plt.hist(x=percent_expend['percentage expenditure'], rwidth=0.85)\n",
    "plt.xlabel('percentage expenditure')\n",
    "plt.ylabel('Frequency')\n",
    "plt.title('Histogram of percent_expend')\n",
    "plt.show()\n",
    "\n",
    "percent_expend.boxplot(column = ['percentage expenditure'])\n",
    "plt.show()\n",
    "\n",
    "# Q1 = percent_expend['percentage expenditure'].quantile(q=0.25)\n",
    "# Q3 = percent_expend['percentage expenditure'].quantile(q=0.75)\n",
    "# mask1 = (percent_expend['percentage expenditure'] < Q3 + 1.5 * (Q3-Q1)) & (percent_expend['percentage expenditure'] > Q1 - 1.5 * (Q3-Q1))\n",
    "# percent_expend = percent_expend[mask1]\n",
    "\n",
    "# plt.hist(x=percent_expend['percentage expenditure'], rwidth=0.85)\n",
    "# plt.xlabel('percentage expenditure')\n",
    "# plt.ylabel('Frequency')\n",
    "# plt.title('Histogram of percent_expend')\n",
    "# plt.show()\n",
    "\n",
    "plt.scatter(percent_expend['percentage expenditure'], percent_expend['Life expectancy '], marker=\".\", color='y')\n",
    "model = np.poly1d(np.polyfit(percent_expend['percentage expenditure'], percent_expend['Life expectancy '], 1))\n",
    "polyline = np.linspace(0,18000)\n",
    "plt.plot(polyline, model(polyline))\n",
    "print(model)\n",
    "plt.title('Life Expectancy vs percent_expend')\n",
    "plt.xlabel('percentage expenditure')\n",
    "plt.ylabel(\"Life Expectancy\")\n",
    "plt.show()"
   ]
  },
  {
   "cell_type": "code",
   "execution_count": 247,
   "metadata": {},
   "outputs": [
    {
     "data": {
      "image/png": "[encoded data removed]",
      "text/plain": [
       "<Figure size 432x288 with 1 Axes>"
      ]
     },
     "metadata": {
      "needs_background": "light"
     },
     "output_type": "display_data"
    },
    {
     "data": {
      "image/png": "[encoded data removed]",
      "text/plain": [
       "<Figure size 432x288 with 1 Axes>"
      ]
     },
     "metadata": {
      "needs_background": "light"
     },
     "output_type": "display_data"
    },
    {
     "name": "stdout",
     "output_type": "stream",
     "text": [
      "            4             3             2\n",
      "-1.965e-18 x + 5.594e-13 x - 5.247e-08 x + 0.00181 x + 60.58\n"
     ]
    },
    {
     "data": {
      "image/png": "[encoded data removed]",
      "text/plain": [
       "<Figure size 432x288 with 1 Axes>"
      ]
     },
     "metadata": {
      "needs_background": "light"
     },
     "output_type": "display_data"
    }
   ],
   "source": [
    "gdp = data[['Country', 'Year', 'Status', 'Life expectancy ', 'New GDP','New Population']]\n",
    "gdp = gdp.dropna(subset=[\"New GDP\"]).copy()\n",
    "\n",
    "plt.hist(x=gdp['New GDP'], rwidth=0.85)\n",
    "plt.xlabel('New GDP')\n",
    "plt.ylabel('Frequency')\n",
    "plt.title('Histogram of gdp')\n",
    "plt.show()\n",
    "\n",
    "gdp.boxplot(column = ['New GDP'])\n",
    "plt.show()\n",
    "\n",
    "# Q1 = gdp['New GDP'].quantile(q=0.25)\n",
    "# Q3 = gdp['New GDP'].quantile(q=0.75)\n",
    "# mask1 = (gdp['New GDP'] < Q3 + 1.5 * (Q3-Q1)) & (gdp['New GDP'] > Q1 - 1.5 * (Q3-Q1))\n",
    "# gdp = gdp[mask1]\n",
    "\n",
    "# plt.hist(x=gdp['New GDP'], rwidth=0.85)\n",
    "# plt.xlabel('New GDP')\n",
    "# plt.ylabel('Frequency')\n",
    "# plt.title('Histogram of gdp')\n",
    "# plt.show()\n",
    "\n",
    "x1 = gdp['New GDP'][gdp['Status'] == 'Developing']\n",
    "y1 = gdp['Life expectancy '][gdp['Status'] == 'Developing']\n",
    "x2 = gdp['New GDP'][gdp['Status'] == 'Developed']\n",
    "y2 = gdp['Life expectancy '][gdp['Status'] == 'Developed']\n",
    "plt.scatter(x1, y1, marker=\".\", color='y')\n",
    "plt.scatter(x2, y2, marker='.', color='orange')\n",
    "model = np.poly1d(np.polyfit(gdp['New GDP'], gdp['Life expectancy '], 4))\n",
    "polyline = np.linspace(0,100000)\n",
    "plt.plot(polyline, model(polyline))\n",
    "print(model)\n",
    "plt.title('Life Expectancy vs gdp')\n",
    "plt.xlabel('New GDP')\n",
    "plt.ylabel(\"Life Expectancy\")\n",
    "plt.show()"
   ]
  },
  {
   "cell_type": "code",
   "execution_count": 251,
   "metadata": {},
   "outputs": [
    {
     "data": {
      "image/png": "[encoded data removed]",
      "text/plain": [
       "<Figure size 432x288 with 1 Axes>"
      ]
     },
     "metadata": {
      "needs_background": "light"
     },
     "output_type": "display_data"
    },
    {
     "data": {
      "image/png": "[encoded data removed]",
      "text/plain": [
       "<Figure size 432x288 with 1 Axes>"
      ]
     },
     "metadata": {
      "needs_background": "light"
     },
     "output_type": "display_data"
    },
    {
     "data": {
      "image/png": "[encoded data removed]",
      "text/plain": [
       "<Figure size 432x288 with 1 Axes>"
      ]
     },
     "metadata": {
      "needs_background": "light"
     },
     "output_type": "display_data"
    },
    {
     "name": "stdout",
     "output_type": "stream",
     "text": [
      " \n",
      "2.699 x + 2.105\n"
     ]
    },
    {
     "data": {
      "image/png": "[encoded data removed]",
      "text/plain": [
       "<Figure size 432x288 with 1 Axes>"
      ]
     },
     "metadata": {
      "needs_background": "light"
     },
     "output_type": "display_data"
    }
   ],
   "source": [
    "bmi = data[['Country', 'Year', 'Status', 'Life expectancy ', 'New BMI','New Population']]\n",
    "bmi = bmi.dropna(subset=[\"New BMI\"]).copy()\n",
    "\n",
    "plt.hist(x=bmi['New BMI'], rwidth=0.85)\n",
    "plt.xlabel('New BMI')\n",
    "plt.ylabel('Frequency')\n",
    "plt.title('Histogram of bmi')\n",
    "plt.show()\n",
    "\n",
    "bmi.boxplot(column = ['New BMI'])\n",
    "plt.show()\n",
    "\n",
    "Q1 = bmi['New BMI'].quantile(q=0.25)\n",
    "Q3 = bmi['New BMI'].quantile(q=0.75)\n",
    "mask1 = (bmi['New BMI'] < Q3 + 1.5 * (Q3-Q1)) & (bmi['New BMI'] > Q1 - 1.5 * (Q3-Q1))\n",
    "bmi = bmi[mask1]\n",
    "\n",
    "plt.hist(x=bmi['New BMI'], rwidth=0.85)\n",
    "plt.xlabel('New BMI')\n",
    "plt.ylabel('Frequency')\n",
    "plt.title('Histogram of bmi')\n",
    "plt.show()\n",
    "\n",
    "x1 = bmi['New BMI'][bmi['Status'] == 'Developing']\n",
    "y1 = bmi['Life expectancy '][bmi['Status'] == 'Developing']\n",
    "x2 = bmi['New BMI'][bmi['Status'] == 'Developed']\n",
    "y2 = bmi['Life expectancy '][bmi['Status'] == 'Developed']\n",
    "plt.scatter(x1, y1, marker=\".\", color='y')\n",
    "plt.scatter(x2, y2, marker='.', color='orange')\n",
    "model = np.poly1d(np.polyfit(bmi['New BMI'], bmi['Life expectancy '], 1))\n",
    "polyline = np.linspace(19,30)\n",
    "plt.plot(polyline, model(polyline))\n",
    "print(model)\n",
    "plt.title('Life Expectancy vs bmi')\n",
    "plt.xlabel('New BMI')\n",
    "plt.ylabel(\"Life Expectancy\")\n",
    "plt.show()"
   ]
  },
  {
   "cell_type": "code",
   "execution_count": null,
   "metadata": {},
   "outputs": [],
   "source": []
  }
 ],
 "metadata": {
  "kernelspec": {
   "display_name": "Python 3",
   "language": "python",
   "name": "python3"
  },
  "language_info": {
   "codemirror_mode": {
    "name": "ipython",
    "version": 3
   },
   "file_extension": ".py",
   "mimetype": "text/x-python",
   "name": "python",
   "nbconvert_exporter": "python",
   "pygments_lexer": "ipython3",
   "version": "3.7.9"
  }
 },
 "nbformat": 4,
 "nbformat_minor": 4
}
