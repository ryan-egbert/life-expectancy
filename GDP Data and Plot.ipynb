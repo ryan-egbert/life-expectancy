{
 "cells": [
  {
   "cell_type": "code",
   "execution_count": 145,
   "metadata": {},
   "outputs": [
    {
     "data": {
      "text/plain": [
       "(2928, 22)"
      ]
     },
     "execution_count": 145,
     "metadata": {},
     "output_type": "execute_result"
    }
   ],
   "source": [
    "import pandas as pd\n",
    "import matplotlib.pylab as plt\n",
    "import numpy as np\n",
    "import random\n",
    "import os\n",
    "\n",
    "data = pd.read_csv(\"Life Expectancy Data.csv\")\n",
    "\n",
    "\n",
    "data.dropna(subset = ['Life expectancy '], inplace = True)\n",
    "\n",
    "data.shape"
   ]
  },
  {
   "cell_type": "code",
   "execution_count": 125,
   "metadata": {
    "scrolled": true
   },
   "outputs": [],
   "source": [
    "GDP_data = pd.read_csv(\"GDP.csv\", header = 4)\n",
    "\n",
    "#GDP_data.head()"
   ]
  },
  {
   "cell_type": "code",
   "execution_count": 126,
   "metadata": {
    "scrolled": true
   },
   "outputs": [],
   "source": [
    "country_labels = pd.read_csv(\"CountryNames.csv\")\n",
    "\n",
    "#country_labels.head(30)"
   ]
  },
  {
   "cell_type": "code",
   "execution_count": 127,
   "metadata": {},
   "outputs": [],
   "source": [
    "i = 0\n",
    "for index, row in GDP_data.iterrows():\n",
    "    try:\n",
    "        mask = row['Country Name'] == country_labels['Country']    \n",
    "        x = country_labels[mask]['Target Name'].values[0]\n",
    "        GDP_data.at[index, 'Country Name'] = x\n",
    "    \n",
    "    except:    \n",
    "        continue\n",
    "\n",
    "#GDP_data.tail()"
   ]
  },
  {
   "cell_type": "code",
   "execution_count": 91,
   "metadata": {},
   "outputs": [],
   "source": [
    "#data[['Year']].value_counts()"
   ]
  },
  {
   "cell_type": "code",
   "execution_count": 92,
   "metadata": {},
   "outputs": [],
   "source": [
    "#data[['Country']].value_counts()"
   ]
  },
  {
   "cell_type": "code",
   "execution_count": 128,
   "metadata": {},
   "outputs": [
    {
     "data": {
      "text/plain": [
       "False    0.967555\n",
       "True     0.032445\n",
       "Name: New GDP, dtype: float64"
      ]
     },
     "execution_count": 128,
     "metadata": {},
     "output_type": "execute_result"
    }
   ],
   "source": [
    "\n",
    "for index, row in data.iterrows():\n",
    "    try:\n",
    "        mask = GDP_data['Country Name'] == row['Country']     \n",
    "        x = GDP_data[mask][str(row['Year'])].values[0]\n",
    "        data.at[index, 'New GDP'] = x\n",
    "    \n",
    "    except:\n",
    "    \n",
    "        continue\n",
    "\n",
    "\n",
    "data['New GDP'].isna().value_counts(normalize=True)\n",
    "#data[data['New GDP']. isna()][['Country', 'Year']]\n",
    "#data.head(20)\n",
    "\n",
    "#data['New GDP'].value_counts"
   ]
  },
  {
   "cell_type": "code",
   "execution_count": 111,
   "metadata": {},
   "outputs": [],
   "source": [
    "#data['GDP'].isna().value_counts(normalize=True)"
   ]
  },
  {
   "cell_type": "code",
   "execution_count": 119,
   "metadata": {},
   "outputs": [
    {
     "data": {
      "text/plain": [
       "(2833, 23)"
      ]
     },
     "execution_count": 119,
     "metadata": {},
     "output_type": "execute_result"
    }
   ],
   "source": [
    "GDP_clean_set = data[data['New GDP'].notnull()]\n",
    "\n",
    "GDP_clean_set.shape"
   ]
  },
  {
   "cell_type": "code",
   "execution_count": 153,
   "metadata": {
    "scrolled": true
   },
   "outputs": [
    {
     "data": {
      "image/png": "[encoded data removed]",
      "text/plain": [
       "<Figure size 432x288 with 1 Axes>"
      ]
     },
     "metadata": {
      "needs_background": "light"
     },
     "output_type": "display_data"
    }
   ],
   "source": [
    "#colors=np.random.rand(2833)\n",
    "\n",
    "plt.scatter(GDP_clean_set['New GDP'],GDP_clean_set['Life expectancy '], color = 'y')\n",
    "\n",
    "model = np.poly1d(np.polyfit(GDP_clean_set['New GDP'], GDP_clean_set['Life expectancy '], 4))\n",
    "#print(model)\n",
    "polyline = np.linspace(0,100000)\n",
    "plt.plot(polyline, model(polyline))\n",
    "\n",
    "plt.title('GDP vs Life Expectency')\n",
    "plt.xlabel('GDP per Capita')\n",
    "plt.ylabel('Life Expectency')\n",
    "plt.savefig('GDP.jpg')\n",
    "plt.show()"
   ]
  },
  {
   "cell_type": "code",
   "execution_count": null,
   "metadata": {},
   "outputs": [],
   "source": []
  }
 ],
 "metadata": {
  "kernelspec": {
   "display_name": "Python 3",
   "language": "python",
   "name": "python3"
  },
  "language_info": {
   "codemirror_mode": {
    "name": "ipython",
    "version": 3
   },
   "file_extension": ".py",
   "mimetype": "text/x-python",
   "name": "python",
   "nbconvert_exporter": "python",
   "pygments_lexer": "ipython3",
   "version": "3.9.5"
  }
 },
 "nbformat": 4,
 "nbformat_minor": 4
}
