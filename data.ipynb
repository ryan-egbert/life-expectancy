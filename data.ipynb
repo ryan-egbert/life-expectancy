{
 "cells": [
  {
   "cell_type": "code",
   "execution_count": 2,
   "metadata": {},
   "outputs": [
    {
     "ename": "FileNotFoundError",
     "evalue": "[Errno 2] No such file or directory: 'Life Expectancy Data.csv'",
     "output_type": "error",
     "traceback": [
      "\u001b[0;31m---------------------------------------------------------------------------\u001b[0m",
      "\u001b[0;31mFileNotFoundError\u001b[0m                         Traceback (most recent call last)",
      "\u001b[0;32m<ipython-input-2-12461a9e104f>\u001b[0m in \u001b[0;36m<module>\u001b[0;34m\u001b[0m\n\u001b[1;32m      3\u001b[0m \u001b[0;32mimport\u001b[0m \u001b[0mmatplotlib\u001b[0m\u001b[0;34m.\u001b[0m\u001b[0mpylab\u001b[0m \u001b[0;32mas\u001b[0m \u001b[0mplt\u001b[0m\u001b[0;34m\u001b[0m\u001b[0;34m\u001b[0m\u001b[0m\n\u001b[1;32m      4\u001b[0m \u001b[0;34m\u001b[0m\u001b[0m\n\u001b[0;32m----> 5\u001b[0;31m \u001b[0mdata\u001b[0m \u001b[0;34m=\u001b[0m \u001b[0mpd\u001b[0m\u001b[0;34m.\u001b[0m\u001b[0mread_csv\u001b[0m\u001b[0;34m(\u001b[0m\u001b[0;34m\"Life Expectancy Data.csv\"\u001b[0m\u001b[0;34m)\u001b[0m\u001b[0;34m\u001b[0m\u001b[0;34m\u001b[0m\u001b[0m\n\u001b[0m\u001b[1;32m      6\u001b[0m \u001b[0mdata\u001b[0m \u001b[0;34m=\u001b[0m \u001b[0mpd\u001b[0m\u001b[0;34m.\u001b[0m\u001b[0mDataFrame\u001b[0m\u001b[0;34m(\u001b[0m\u001b[0mdata\u001b[0m\u001b[0;34m)\u001b[0m\u001b[0;34m\u001b[0m\u001b[0;34m\u001b[0m\u001b[0m\n\u001b[1;32m      7\u001b[0m \u001b[0mdata\u001b[0m\u001b[0;34m.\u001b[0m\u001b[0mhead\u001b[0m\u001b[0;34m(\u001b[0m\u001b[0;34m)\u001b[0m\u001b[0;34m\u001b[0m\u001b[0;34m\u001b[0m\u001b[0m\n",
      "\u001b[0;32m/anaconda3/lib/python3.7/site-packages/pandas/io/parsers.py\u001b[0m in \u001b[0;36mread_csv\u001b[0;34m(filepath_or_buffer, sep, delimiter, header, names, index_col, usecols, squeeze, prefix, mangle_dupe_cols, dtype, engine, converters, true_values, false_values, skipinitialspace, skiprows, skipfooter, nrows, na_values, keep_default_na, na_filter, verbose, skip_blank_lines, parse_dates, infer_datetime_format, keep_date_col, date_parser, dayfirst, cache_dates, iterator, chunksize, compression, thousands, decimal, lineterminator, quotechar, quoting, doublequote, escapechar, comment, encoding, dialect, error_bad_lines, warn_bad_lines, delim_whitespace, low_memory, memory_map, float_precision, storage_options)\u001b[0m\n\u001b[1;32m    608\u001b[0m     \u001b[0mkwds\u001b[0m\u001b[0;34m.\u001b[0m\u001b[0mupdate\u001b[0m\u001b[0;34m(\u001b[0m\u001b[0mkwds_defaults\u001b[0m\u001b[0;34m)\u001b[0m\u001b[0;34m\u001b[0m\u001b[0;34m\u001b[0m\u001b[0m\n\u001b[1;32m    609\u001b[0m \u001b[0;34m\u001b[0m\u001b[0m\n\u001b[0;32m--> 610\u001b[0;31m     \u001b[0;32mreturn\u001b[0m \u001b[0m_read\u001b[0m\u001b[0;34m(\u001b[0m\u001b[0mfilepath_or_buffer\u001b[0m\u001b[0;34m,\u001b[0m \u001b[0mkwds\u001b[0m\u001b[0;34m)\u001b[0m\u001b[0;34m\u001b[0m\u001b[0;34m\u001b[0m\u001b[0m\n\u001b[0m\u001b[1;32m    611\u001b[0m \u001b[0;34m\u001b[0m\u001b[0m\n\u001b[1;32m    612\u001b[0m \u001b[0;34m\u001b[0m\u001b[0m\n",
      "\u001b[0;32m/anaconda3/lib/python3.7/site-packages/pandas/io/parsers.py\u001b[0m in \u001b[0;36m_read\u001b[0;34m(filepath_or_buffer, kwds)\u001b[0m\n\u001b[1;32m    460\u001b[0m \u001b[0;34m\u001b[0m\u001b[0m\n\u001b[1;32m    461\u001b[0m     \u001b[0;31m# Create the parser.\u001b[0m\u001b[0;34m\u001b[0m\u001b[0;34m\u001b[0m\u001b[0;34m\u001b[0m\u001b[0m\n\u001b[0;32m--> 462\u001b[0;31m     \u001b[0mparser\u001b[0m \u001b[0;34m=\u001b[0m \u001b[0mTextFileReader\u001b[0m\u001b[0;34m(\u001b[0m\u001b[0mfilepath_or_buffer\u001b[0m\u001b[0;34m,\u001b[0m \u001b[0;34m**\u001b[0m\u001b[0mkwds\u001b[0m\u001b[0;34m)\u001b[0m\u001b[0;34m\u001b[0m\u001b[0;34m\u001b[0m\u001b[0m\n\u001b[0m\u001b[1;32m    463\u001b[0m \u001b[0;34m\u001b[0m\u001b[0m\n\u001b[1;32m    464\u001b[0m     \u001b[0;32mif\u001b[0m \u001b[0mchunksize\u001b[0m \u001b[0;32mor\u001b[0m \u001b[0miterator\u001b[0m\u001b[0;34m:\u001b[0m\u001b[0;34m\u001b[0m\u001b[0;34m\u001b[0m\u001b[0m\n",
      "\u001b[0;32m/anaconda3/lib/python3.7/site-packages/pandas/io/parsers.py\u001b[0m in \u001b[0;36m__init__\u001b[0;34m(self, f, engine, **kwds)\u001b[0m\n\u001b[1;32m    817\u001b[0m             \u001b[0mself\u001b[0m\u001b[0;34m.\u001b[0m\u001b[0moptions\u001b[0m\u001b[0;34m[\u001b[0m\u001b[0;34m\"has_index_names\"\u001b[0m\u001b[0;34m]\u001b[0m \u001b[0;34m=\u001b[0m \u001b[0mkwds\u001b[0m\u001b[0;34m[\u001b[0m\u001b[0;34m\"has_index_names\"\u001b[0m\u001b[0;34m]\u001b[0m\u001b[0;34m\u001b[0m\u001b[0;34m\u001b[0m\u001b[0m\n\u001b[1;32m    818\u001b[0m \u001b[0;34m\u001b[0m\u001b[0m\n\u001b[0;32m--> 819\u001b[0;31m         \u001b[0mself\u001b[0m\u001b[0;34m.\u001b[0m\u001b[0m_engine\u001b[0m \u001b[0;34m=\u001b[0m \u001b[0mself\u001b[0m\u001b[0;34m.\u001b[0m\u001b[0m_make_engine\u001b[0m\u001b[0;34m(\u001b[0m\u001b[0mself\u001b[0m\u001b[0;34m.\u001b[0m\u001b[0mengine\u001b[0m\u001b[0;34m)\u001b[0m\u001b[0;34m\u001b[0m\u001b[0;34m\u001b[0m\u001b[0m\n\u001b[0m\u001b[1;32m    820\u001b[0m \u001b[0;34m\u001b[0m\u001b[0m\n\u001b[1;32m    821\u001b[0m     \u001b[0;32mdef\u001b[0m \u001b[0mclose\u001b[0m\u001b[0;34m(\u001b[0m\u001b[0mself\u001b[0m\u001b[0;34m)\u001b[0m\u001b[0;34m:\u001b[0m\u001b[0;34m\u001b[0m\u001b[0;34m\u001b[0m\u001b[0m\n",
      "\u001b[0;32m/anaconda3/lib/python3.7/site-packages/pandas/io/parsers.py\u001b[0m in \u001b[0;36m_make_engine\u001b[0;34m(self, engine)\u001b[0m\n\u001b[1;32m   1048\u001b[0m             )\n\u001b[1;32m   1049\u001b[0m         \u001b[0;31m# error: Too many arguments for \"ParserBase\"\u001b[0m\u001b[0;34m\u001b[0m\u001b[0;34m\u001b[0m\u001b[0;34m\u001b[0m\u001b[0m\n\u001b[0;32m-> 1050\u001b[0;31m         \u001b[0;32mreturn\u001b[0m \u001b[0mmapping\u001b[0m\u001b[0;34m[\u001b[0m\u001b[0mengine\u001b[0m\u001b[0;34m]\u001b[0m\u001b[0;34m(\u001b[0m\u001b[0mself\u001b[0m\u001b[0;34m.\u001b[0m\u001b[0mf\u001b[0m\u001b[0;34m,\u001b[0m \u001b[0;34m**\u001b[0m\u001b[0mself\u001b[0m\u001b[0;34m.\u001b[0m\u001b[0moptions\u001b[0m\u001b[0;34m)\u001b[0m  \u001b[0;31m# type: ignore[call-arg]\u001b[0m\u001b[0;34m\u001b[0m\u001b[0;34m\u001b[0m\u001b[0m\n\u001b[0m\u001b[1;32m   1051\u001b[0m \u001b[0;34m\u001b[0m\u001b[0m\n\u001b[1;32m   1052\u001b[0m     \u001b[0;32mdef\u001b[0m \u001b[0m_failover_to_python\u001b[0m\u001b[0;34m(\u001b[0m\u001b[0mself\u001b[0m\u001b[0;34m)\u001b[0m\u001b[0;34m:\u001b[0m\u001b[0;34m\u001b[0m\u001b[0;34m\u001b[0m\u001b[0m\n",
      "\u001b[0;32m/anaconda3/lib/python3.7/site-packages/pandas/io/parsers.py\u001b[0m in \u001b[0;36m__init__\u001b[0;34m(self, src, **kwds)\u001b[0m\n\u001b[1;32m   1865\u001b[0m \u001b[0;34m\u001b[0m\u001b[0m\n\u001b[1;32m   1866\u001b[0m         \u001b[0;31m# open handles\u001b[0m\u001b[0;34m\u001b[0m\u001b[0;34m\u001b[0m\u001b[0;34m\u001b[0m\u001b[0m\n\u001b[0;32m-> 1867\u001b[0;31m         \u001b[0mself\u001b[0m\u001b[0;34m.\u001b[0m\u001b[0m_open_handles\u001b[0m\u001b[0;34m(\u001b[0m\u001b[0msrc\u001b[0m\u001b[0;34m,\u001b[0m \u001b[0mkwds\u001b[0m\u001b[0;34m)\u001b[0m\u001b[0;34m\u001b[0m\u001b[0;34m\u001b[0m\u001b[0m\n\u001b[0m\u001b[1;32m   1868\u001b[0m         \u001b[0;32massert\u001b[0m \u001b[0mself\u001b[0m\u001b[0;34m.\u001b[0m\u001b[0mhandles\u001b[0m \u001b[0;32mis\u001b[0m \u001b[0;32mnot\u001b[0m \u001b[0;32mNone\u001b[0m\u001b[0;34m\u001b[0m\u001b[0;34m\u001b[0m\u001b[0m\n\u001b[1;32m   1869\u001b[0m         \u001b[0;32mfor\u001b[0m \u001b[0mkey\u001b[0m \u001b[0;32min\u001b[0m \u001b[0;34m(\u001b[0m\u001b[0;34m\"storage_options\"\u001b[0m\u001b[0;34m,\u001b[0m \u001b[0;34m\"encoding\"\u001b[0m\u001b[0;34m,\u001b[0m \u001b[0;34m\"memory_map\"\u001b[0m\u001b[0;34m,\u001b[0m \u001b[0;34m\"compression\"\u001b[0m\u001b[0;34m)\u001b[0m\u001b[0;34m:\u001b[0m\u001b[0;34m\u001b[0m\u001b[0;34m\u001b[0m\u001b[0m\n",
      "\u001b[0;32m/anaconda3/lib/python3.7/site-packages/pandas/io/parsers.py\u001b[0m in \u001b[0;36m_open_handles\u001b[0;34m(self, src, kwds)\u001b[0m\n\u001b[1;32m   1366\u001b[0m             \u001b[0mcompression\u001b[0m\u001b[0;34m=\u001b[0m\u001b[0mkwds\u001b[0m\u001b[0;34m.\u001b[0m\u001b[0mget\u001b[0m\u001b[0;34m(\u001b[0m\u001b[0;34m\"compression\"\u001b[0m\u001b[0;34m,\u001b[0m \u001b[0;32mNone\u001b[0m\u001b[0;34m)\u001b[0m\u001b[0;34m,\u001b[0m\u001b[0;34m\u001b[0m\u001b[0;34m\u001b[0m\u001b[0m\n\u001b[1;32m   1367\u001b[0m             \u001b[0mmemory_map\u001b[0m\u001b[0;34m=\u001b[0m\u001b[0mkwds\u001b[0m\u001b[0;34m.\u001b[0m\u001b[0mget\u001b[0m\u001b[0;34m(\u001b[0m\u001b[0;34m\"memory_map\"\u001b[0m\u001b[0;34m,\u001b[0m \u001b[0;32mFalse\u001b[0m\u001b[0;34m)\u001b[0m\u001b[0;34m,\u001b[0m\u001b[0;34m\u001b[0m\u001b[0;34m\u001b[0m\u001b[0m\n\u001b[0;32m-> 1368\u001b[0;31m             \u001b[0mstorage_options\u001b[0m\u001b[0;34m=\u001b[0m\u001b[0mkwds\u001b[0m\u001b[0;34m.\u001b[0m\u001b[0mget\u001b[0m\u001b[0;34m(\u001b[0m\u001b[0;34m\"storage_options\"\u001b[0m\u001b[0;34m,\u001b[0m \u001b[0;32mNone\u001b[0m\u001b[0;34m)\u001b[0m\u001b[0;34m,\u001b[0m\u001b[0;34m\u001b[0m\u001b[0;34m\u001b[0m\u001b[0m\n\u001b[0m\u001b[1;32m   1369\u001b[0m         )\n\u001b[1;32m   1370\u001b[0m \u001b[0;34m\u001b[0m\u001b[0m\n",
      "\u001b[0;32m/anaconda3/lib/python3.7/site-packages/pandas/io/common.py\u001b[0m in \u001b[0;36mget_handle\u001b[0;34m(path_or_buf, mode, encoding, compression, memory_map, is_text, errors, storage_options)\u001b[0m\n\u001b[1;32m    650\u001b[0m                 \u001b[0mencoding\u001b[0m\u001b[0;34m=\u001b[0m\u001b[0mioargs\u001b[0m\u001b[0;34m.\u001b[0m\u001b[0mencoding\u001b[0m\u001b[0;34m,\u001b[0m\u001b[0;34m\u001b[0m\u001b[0;34m\u001b[0m\u001b[0m\n\u001b[1;32m    651\u001b[0m                 \u001b[0merrors\u001b[0m\u001b[0;34m=\u001b[0m\u001b[0merrors\u001b[0m\u001b[0;34m,\u001b[0m\u001b[0;34m\u001b[0m\u001b[0;34m\u001b[0m\u001b[0m\n\u001b[0;32m--> 652\u001b[0;31m                 \u001b[0mnewline\u001b[0m\u001b[0;34m=\u001b[0m\u001b[0;34m\"\"\u001b[0m\u001b[0;34m,\u001b[0m\u001b[0;34m\u001b[0m\u001b[0;34m\u001b[0m\u001b[0m\n\u001b[0m\u001b[1;32m    653\u001b[0m             )\n\u001b[1;32m    654\u001b[0m         \u001b[0;32melse\u001b[0m\u001b[0;34m:\u001b[0m\u001b[0;34m\u001b[0m\u001b[0;34m\u001b[0m\u001b[0m\n",
      "\u001b[0;31mFileNotFoundError\u001b[0m: [Errno 2] No such file or directory: 'Life Expectancy Data.csv'"
     ]
    }
   ],
   "source": [
    "import pandas as pd\n",
    "import numpy as np\n",
    "import matplotlib.pylab as plt\n",
    "\n",
    "data = pd.read_csv(\"Life Expectancy Data.csv\")\n",
    "data = pd.DataFrame(data)\n",
    "data.head()"
   ]
  },
  {
   "cell_type": "code",
   "execution_count": null,
   "metadata": {},
   "outputs": [],
   "source": [
    "GDP_data = pd.read_csv(\"GDP.csv\", header = 4)\n",
    "country_labels = pd.read_csv(\"CountryNames.csv\")\n",
    "\n",
    "#country_labels.head(30)"
   ]
  },
  {
   "cell_type": "code",
   "execution_count": null,
   "metadata": {},
   "outputs": [],
   "source": [
    "i = 0\n",
    "for index, row in GDP_data.iterrows():\n",
    "    try:\n",
    "        mask = row['Country Name'] == country_labels['Country']    \n",
    "        x = country_labels[mask]['Target Name'].values[0]\n",
    "        GDP_data.at[index, 'Country Name'] = x\n",
    "    \n",
    "    except:    \n",
    "        continue\n",
    "\n",
    "#GDP_data.tail()"
   ]
  },
  {
   "cell_type": "code",
   "execution_count": null,
   "metadata": {},
   "outputs": [],
   "source": [
    "\n",
    "for index, row in data.iterrows():\n",
    "    try:\n",
    "        mask = GDP_data['Country Name'] == row['Country']     \n",
    "        x = GDP_data[mask][str(row['Year'])].values[0]\n",
    "        data.at[index, 'New GDP'] = x\n",
    "    \n",
    "    except:\n",
    "    \n",
    "        continue\n",
    "\n",
    "\n",
    "data['New GDP'].isna().value_counts(normalize=True)"
   ]
  },
  {
   "cell_type": "code",
   "execution_count": null,
   "metadata": {},
   "outputs": [],
   "source": [
    "print(data.columns)"
   ]
  },
  {
   "cell_type": "code",
   "execution_count": null,
   "metadata": {},
   "outputs": [],
   "source": [
    "BMI = pd.read_csv(\"BMI.csv\")\n",
    "BMI = pd.DataFrame(BMI)"
   ]
  },
  {
   "cell_type": "code",
   "execution_count": null,
   "metadata": {},
   "outputs": [],
   "source": [
    "data['New BMI'] = 0\n",
    "BMI = BMI[BMI['FactValueNumeric'].isna() != True]\n",
    "BMI['FactValueNumeric'].isna().value_counts(normalize=True)"
   ]
  },
  {
   "cell_type": "code",
   "execution_count": null,
   "metadata": {},
   "outputs": [],
   "source": [
    "for index, row in data.iterrows():\n",
    "    try:\n",
    "        mask = ((BMI['Location'] == row['Country']) & (BMI['Period'] == row['Year']) & (BMI['Dim1'] == 'Both sexes'))\n",
    "        x = BMI[mask]['FactValueNumeric']\n",
    "        #print(x, type(x))\n",
    "        data.loc[index, 'New BMI'] = float(x)\n",
    "        #data.iloc[index, 'New BMI'] = float(BMI[((BMI['Location'] == row['Country']) & (BMI['Period'] == row['Year']) & (BMI['Dim1'] == 'Both sexes'))]['FactValueNumeric'].values[0])\n",
    "        if len(x)==0:\n",
    "            continue\n",
    "    except:\n",
    "        continue        \n"
   ]
  },
  {
   "cell_type": "code",
   "execution_count": null,
   "metadata": {},
   "outputs": [],
   "source": [
    "data['New BMI']"
   ]
  },
  {
   "cell_type": "code",
   "execution_count": null,
   "metadata": {},
   "outputs": [],
   "source": [
    "clean_data = data[data['Life expectancy '].isna() != True]"
   ]
  },
  {
   "cell_type": "code",
   "execution_count": null,
   "metadata": {},
   "outputs": [],
   "source": [
    "data['Total expenditure'].isna().value_counts(normalize=True)"
   ]
  },
  {
   "cell_type": "code",
   "execution_count": null,
   "metadata": {},
   "outputs": [],
   "source": [
    "#clean_data = data[data['Total expenditure']!='2015']\n",
    "clean_data = clean_data[clean_data['Life expectancy '].isna() != True]"
   ]
  },
  {
   "cell_type": "code",
   "execution_count": null,
   "metadata": {},
   "outputs": [],
   "source": [
    "clean_data['Total expenditure'].isna().value_counts(normalize = True)"
   ]
  },
  {
   "cell_type": "code",
   "execution_count": null,
   "metadata": {},
   "outputs": [],
   "source": [
    "print('sample size', len(clean_data))\n",
    "print('Descriptive Statistic: Total Expenditure')\n",
    "\n",
    "print('min', np.min(clean_data['Total expenditure']))\n",
    "print('1st quantile',clean_data['Total expenditure'].quantile(q=0.25))\n",
    "print('mean', np.mean(clean_data['Total expenditure']))\n",
    "print('3rd quantile',clean_data['Total expenditure'].quantile(q=0.75))\n",
    "print('Max', np.max(clean_data['Total expenditure']))\n",
    "\n",
    "print('std', np.std(clean_data['Total expenditure']))\n",
    "print('var', np.var(clean_data['Total expenditure']))\n",
    "\n"
   ]
  },
  {
   "cell_type": "code",
   "execution_count": null,
   "metadata": {},
   "outputs": [],
   "source": [
    "#reference: https://realpython.com/python-histograms/ \n",
    "n, bins, patches = plt.hist(x=clean_data['Total expenditure'], rwidth=0.85)\n",
    "plt.xlabel('Total expenditure')\n",
    "plt.ylabel('Frequency')\n",
    "plt.title('Histograms of Total expenditure')\n",
    "plt.show()\n",
    "#skew"
   ]
  },
  {
   "cell_type": "code",
   "execution_count": null,
   "metadata": {},
   "outputs": [],
   "source": [
    "clean_data.boxplot(column = ['Total expenditure'])"
   ]
  },
  {
   "cell_type": "code",
   "execution_count": null,
   "metadata": {},
   "outputs": [],
   "source": [
    "Q1 = clean_data['Total expenditure'].quantile(q=0.25)\n",
    "Q3 = clean_data['Total expenditure'].quantile(q=0.75)\n",
    "mask1 = (clean_data['Total expenditure'] < Q3 + 1.5 * (Q3-Q1)) & (clean_data['Total expenditure'] > Q1 - 1.5 * (Q3-Q1))\n",
    "deduct_outlier = clean_data[mask1]"
   ]
  },
  {
   "cell_type": "code",
   "execution_count": null,
   "metadata": {},
   "outputs": [],
   "source": [
    "#reference: https://realpython.com/python-histograms/ \n",
    "n, bins, patches = plt.hist(x=deduct_outlier['Total expenditure'], rwidth=0.85)\n",
    "plt.xlabel('Total expenditure')\n",
    "plt.ylabel('Frequency')\n",
    "plt.title('Histograms of Total expenditure')\n",
    "plt.show()\n"
   ]
  },
  {
   "cell_type": "code",
   "execution_count": null,
   "metadata": {},
   "outputs": [],
   "source": [
    "plt.scatter(deduct_outlier['Total expenditure'],deduct_outlier['Life expectancy '], color ='y'  )\n",
    "\n",
    "plt.title('Life Expectancy vs Total expenditure')\n",
    "plt.xlabel('Total expenditure')\n",
    "plt.ylabel(\"Life Expectancy\")\n",
    "#mild correlation"
   ]
  },
  {
   "cell_type": "code",
   "execution_count": null,
   "metadata": {},
   "outputs": [],
   "source": [
    "mask2 = deduct_outlier['Year']==2014\n",
    "plt.scatter(deduct_outlier[mask2]['Total expenditure'],deduct_outlier[mask2]['Life expectancy '], color ='y' )\n",
    "model = np.poly1d(np.polyfit(deduct_outlier[mask2]['Total expenditure'], deduct_outlier[mask2]['Life expectancy '],1))\n",
    "polyline = np.linspace(1,12)\n",
    "plt.plot(polyline, model(polyline))\n",
    "plt.title('Life Expectancy vs Total expenditure')\n",
    "plt.xlabel('Total expenditure')\n",
    "plt.ylabel(\"Life Expectancy\")\n",
    "print(len(deduct_outlier),len(deduct_outlier[mask2]))\n",
    "#using year 2014 as mask"
   ]
  },
  {
   "cell_type": "code",
   "execution_count": null,
   "metadata": {},
   "outputs": [],
   "source": [
    "mask3 = deduct_outlier['Country']=='India'\n",
    "plt.scatter(deduct_outlier[mask3]['Total expenditure'],deduct_outlier[mask3]['Life expectancy '], color ='y' )\n",
    "model = np.poly1d(np.polyfit(deduct_outlier[mask3]['Total expenditure'], deduct_outlier[mask3]['Life expectancy '],1))\n",
    "polyline = np.linspace(4,5)\n",
    "plt.plot(polyline, model(polyline))\n",
    "plt.title('Life Expectancy vs Total expenditure')\n",
    "plt.xlabel('Total expenditure')\n",
    "plt.ylabel(\"Life Expectancy\")\n",
    "print(len(deduct_outlier),len(deduct_outlier[mask3]))\n",
    "#using China as mask"
   ]
  },
  {
   "cell_type": "code",
   "execution_count": null,
   "metadata": {},
   "outputs": [],
   "source": [
    "data['percentage expenditure'].isna().value_counts(normalize=True)"
   ]
  },
  {
   "cell_type": "code",
   "execution_count": null,
   "metadata": {},
   "outputs": [],
   "source": [
    "print('sample size', len(data))\n",
    "print('Descriptive Statistic: percentage expenditure')\n",
    "\n",
    "print('min', np.min(data['percentage expenditure']))\n",
    "print('1st quantile',data['percentage expenditure'].quantile(q=0.25))\n",
    "print('mean', np.mean(data['percentage expenditure']))\n",
    "print('3rd quantile',data['percentage expenditure'].quantile(q=0.75))\n",
    "print('Max', np.max(data['percentage expenditure']))\n",
    "\n",
    "print('std', np.std(data['percentage expenditure']))\n",
    "print('var', np.var(data['percentage expenditure']))"
   ]
  },
  {
   "cell_type": "code",
   "execution_count": null,
   "metadata": {},
   "outputs": [],
   "source": [
    "#reference: https://realpython.com/python-histograms/ \n",
    "n, bins, patches = plt.hist(x=data['percentage expenditure'], rwidth=0.85)\n",
    "plt.xlabel('percentage expenditure')\n",
    "plt.ylabel('Frequency')\n",
    "plt.title('Histograms of percentage expenditure')\n",
    "plt.show()"
   ]
  },
  {
   "cell_type": "code",
   "execution_count": null,
   "metadata": {},
   "outputs": [],
   "source": [
    "Q1 = data['percentage expenditure'].quantile(q=0.25)\n",
    "Q3 = data['percentage expenditure'].quantile(q=0.75)\n",
    "mask1 = (data['percentage expenditure'] < Q3 + 1.5 * (Q3-Q1)) & (data['percentage expenditure'] > Q1 - 1.5 * (Q3-Q1))\n",
    "deduct_outlier2 = data[mask1]"
   ]
  },
  {
   "cell_type": "code",
   "execution_count": null,
   "metadata": {},
   "outputs": [],
   "source": [
    "#reference: https://realpython.com/python-histograms/ \n",
    "n, bins, patches = plt.hist(x=deduct_outlier2['percentage expenditure'], rwidth=0.85)\n",
    "plt.xlabel('percentage expenditure')\n",
    "plt.ylabel('Frequency')\n",
    "plt.title('Histograms of Total expenditure')\n",
    "plt.show()\n",
    "#Even we remove the outliers, percentage expenditure data distribution is too skew to use"
   ]
  },
  {
   "cell_type": "code",
   "execution_count": null,
   "metadata": {},
   "outputs": [],
   "source": [
    "#meaning...?\n",
    "plt.scatter(deduct_outlier2['percentage expenditure'],deduct_outlier2['Life expectancy '], color ='y'  )\n",
    "model = np.poly1d(np.polyfit(deduct_outlier2['percentage expenditure'], deduct_outlier2['Life expectancy '],2))\n",
    "polyline = np.linspace(0,1200)\n",
    "plt.plot(polyline, model(polyline))\n",
    "plt.title('Life Expectancy vs percentage expenditure')\n",
    "plt.xlabel('percentage expenditure')\n",
    "plt.ylabel(\"Life Expectancy\")"
   ]
  },
  {
   "cell_type": "code",
   "execution_count": null,
   "metadata": {},
   "outputs": [],
   "source": [
    "mask2 = deduct_outlier2['Year']==2014\n",
    "plt.scatter(deduct_outlier2[mask2]['percentage expenditure'],deduct_outlier2[mask2]['Life expectancy '], color ='y' )\n",
    "model = np.poly1d(np.polyfit(deduct_outlier2[mask2]['percentage expenditure'], deduct_outlier2[mask2]['Life expectancy '],2))\n",
    "polyline = np.linspace(0,1200)\n",
    "plt.plot(polyline, model(polyline))\n",
    "plt.title('Life Expectancy vs percentage expenditure')\n",
    "plt.xlabel('percentage expenditure')\n",
    "plt.ylabel(\"Life Expectancy\")\n",
    "print(len(deduct_outlier2),len(deduct_outlier2[mask2]))\n",
    "#using year 2014 as mask"
   ]
  },
  {
   "cell_type": "code",
   "execution_count": null,
   "metadata": {},
   "outputs": [],
   "source": [
    "mask3 = deduct_outlier2['Country']=='India'\n",
    "plt.scatter(deduct_outlier2[mask3]['percentage expenditure'],deduct_outlier2[mask3]['Life expectancy '], color ='y' )\n",
    "model = np.poly1d(np.polyfit(deduct_outlier2[mask3]['percentage expenditure'], deduct_outlier2[mask3]['Life expectancy '],1))\n",
    "polyline = np.linspace(0,100)\n",
    "plt.plot(polyline, model(polyline))\n",
    "plt.title('Life Expectancy vs percentage expenditure')\n",
    "plt.xlabel('percentage expenditure')\n",
    "plt.ylabel(\"Life Expectancy\")\n",
    "print(len(deduct_outlier2),len(deduct_outlier2[mask2]))\n",
    "#using India as mask"
   ]
  },
  {
   "cell_type": "code",
   "execution_count": null,
   "metadata": {},
   "outputs": [],
   "source": [
    "clean_data2 = data[data['New GDP'].isna() != True]"
   ]
  },
  {
   "cell_type": "code",
   "execution_count": null,
   "metadata": {},
   "outputs": [],
   "source": [
    "clean_data2['GDP percentage'] = clean_data2['New GDP'] * clean_data2['percentage expenditure']"
   ]
  },
  {
   "cell_type": "code",
   "execution_count": null,
   "metadata": {},
   "outputs": [],
   "source": [
    "plt.scatter(clean_data2['GDP percentage'],clean_data2['Life expectancy '], color ='y'  )\n",
    "#model = np.poly1d(np.polyfit(clean_data2['GDP percentage'], clean_data2['Life expectancy '],2))\n",
    "#polyline = np.linspace(0,0.5e9)\n",
    "#plt.plot(polyline, model(polyline))\n",
    "plt.title('Life Expectancy vs GDP percentage')\n",
    "plt.xlabel('GDP percentage')\n",
    "plt.ylabel(\"Life Expectancy\")"
   ]
  },
  {
   "cell_type": "code",
   "execution_count": null,
   "metadata": {},
   "outputs": [],
   "source": [
    "mask2 = clean_data2['Year']==2014\n",
    "plt.scatter(clean_data2[mask2]['GDP percentage'],clean_data2[mask2]['Life expectancy '], color ='y' )\n",
    "#model = np.poly1d(np.polyfit(clean_data2[mask2]['GDP percentage'], clean_data2[mask2]['Life expectancy '],2))\n",
    "#polyline = np.linspace(0,0.75e9)\n",
    "#plt.plot(polyline, model(polyline))\n",
    "plt.title('Life Expectancy vs GDP percentage')\n",
    "plt.xlabel('GDP percentage')\n",
    "plt.ylabel(\"Life Expectancy\")\n",
    "print(len(clean_data2),len(clean_data2[mask2]))\n",
    "#using year 2013 as mask"
   ]
  },
  {
   "cell_type": "code",
   "execution_count": null,
   "metadata": {},
   "outputs": [],
   "source": [
    "mask3 = clean_data2['Country']=='India'\n",
    "plt.scatter(clean_data2[mask3]['GDP percentage'],clean_data2[mask3]['Life expectancy '], color ='y' )\n",
    "model = np.poly1d(np.polyfit(clean_data2[mask3]['GDP percentage'], clean_data2[mask3]['Life expectancy '],2))\n",
    "polyline = np.linspace(0,140000)\n",
    "plt.plot(polyline, model(polyline))\n",
    "plt.title('Life Expectancy vs GDP percentage')\n",
    "plt.xlabel('GDP percentage')\n",
    "plt.ylabel(\"Life Expectancy\")\n",
    "print(len(clean_data2),len(clean_data2[mask2]))\n",
    "#using India as mask"
   ]
  },
  {
   "cell_type": "code",
   "execution_count": null,
   "metadata": {},
   "outputs": [],
   "source": []
  },
  {
   "cell_type": "code",
   "execution_count": null,
   "metadata": {},
   "outputs": [],
   "source": [
    "clean_data2 = data[data['New BMI'].isna() != True]\n",
    "clean_data2['New BMI'] = clean_data2['New BMI'].astype(float, errors = 'raise')"
   ]
  },
  {
   "cell_type": "code",
   "execution_count": null,
   "metadata": {},
   "outputs": [],
   "source": [
    "print('sample size', len(clean_data2))\n",
    "print('Descriptive Statistic: New BMI')\n",
    "\n",
    "print('min', np.min(clean_data2['New BMI']))\n",
    "print('1st quantile',clean_data2['New BMI'].quantile(q=0.25))\n",
    "print('mean', np.mean(clean_data2['New BMI']))\n",
    "print('3rd quantile',clean_data2['New BMI'].quantile(q=0.75))\n",
    "print('Max', np.max(clean_data2['New BMI']))\n",
    "\n",
    "print('std', np.std(clean_data2['New BMI']))\n",
    "print('var', np.var(clean_data2['New BMI']))\n"
   ]
  },
  {
   "cell_type": "code",
   "execution_count": null,
   "metadata": {},
   "outputs": [],
   "source": [
    "n, bins, patches = plt.hist(x=clean_data2['New BMI'], rwidth=0.85)\n",
    "plt.xlabel('New BMI')\n",
    "plt.ylabel('Frequency')\n",
    "plt.title('Histograms of New BMI')\n",
    "plt.show()\n",
    "#skew"
   ]
  },
  {
   "cell_type": "code",
   "execution_count": null,
   "metadata": {},
   "outputs": [],
   "source": [
    "clean_data2.boxplot(column = ['New BMI'])"
   ]
  },
  {
   "cell_type": "code",
   "execution_count": null,
   "metadata": {},
   "outputs": [],
   "source": [
    "Q1 = clean_data2['New BMI'].quantile(q=0.25)\n",
    "Q3 = clean_data2['New BMI'].quantile(q=0.75)\n",
    "mask1 = (clean_data2['New BMI'] < Q3 + 1.5 * (Q3-Q1)) & (clean_data2['New BMI'] > Q1 - 1.5 * (Q3-Q1))\n",
    "deduct_outlier3 = clean_data2[mask1]"
   ]
  },
  {
   "cell_type": "code",
   "execution_count": null,
   "metadata": {},
   "outputs": [],
   "source": [
    "n, bins, patches = plt.hist(x=deduct_outlier3['New BMI'], rwidth=0.85)\n",
    "plt.xlabel('New BMI')\n",
    "plt.ylabel('Frequency')\n",
    "plt.title('Histograms of New BMI')\n",
    "plt.show()"
   ]
  },
  {
   "cell_type": "code",
   "execution_count": null,
   "metadata": {},
   "outputs": [],
   "source": [
    "plt.scatter(deduct_outlier3['New BMI'],deduct_outlier3['Life expectancy '], color ='y'  )\n",
    "\n",
    "#model = np.poly1d(np.polyfit(deduct_outlier3['New BMI'], deduct_outlier3['Life expectancy '],2))\n",
    "#polyline = np.linspace(18,32.5)\n",
    "#plt.plot(polyline, model(polyline))\n",
    "plt.title('Life Expectancy vs New BMI')\n",
    "plt.xlabel('New BMI')\n",
    "plt.ylabel(\"Life Expectancy\")"
   ]
  },
  {
   "cell_type": "code",
   "execution_count": null,
   "metadata": {},
   "outputs": [],
   "source": [
    "mask2 = deduct_outlier3['Year']==2014\n",
    "plt.scatter(deduct_outlier3[mask2]['New BMI'],deduct_outlier3[mask2]['Life expectancy '], color ='y'  )\n",
    "\n",
    "model = np.poly1d(np.polyfit(deduct_outlier3[mask2]['New BMI'], deduct_outlier3[mask2]['Life expectancy '],2))\n",
    "polyline = np.linspace(20,32)\n",
    "plt.plot(polyline, model(polyline))\n",
    "plt.title('Life Expectancy vs New BMI')\n",
    "plt.xlabel('New BMI')\n",
    "plt.ylabel(\"Life Expectancy\")"
   ]
  },
  {
   "cell_type": "code",
   "execution_count": null,
   "metadata": {},
   "outputs": [],
   "source": [
    "mask3 = deduct_outlier3['Country']=='India'\n",
    "plt.scatter(deduct_outlier3[mask3]['New BMI'],deduct_outlier3[mask3]['Life expectancy '], color ='y'  )\n",
    "\n",
    "model = np.poly1d(np.polyfit(deduct_outlier3[mask3]['New BMI'], deduct_outlier3[mask3]['Life expectancy '],2))\n",
    "polyline = np.linspace(20,23)\n",
    "plt.plot(polyline, model(polyline))\n",
    "plt.title('Life Expectancy vs New BMI')\n",
    "plt.xlabel('New BMI')\n",
    "plt.ylabel(\"Life Expectancy\")"
   ]
  },
  {
   "cell_type": "code",
   "execution_count": null,
   "metadata": {},
   "outputs": [],
   "source": []
  }
 ],
 "metadata": {
  "kernelspec": {
   "display_name": "Python 3",
   "language": "python",
   "name": "python3"
  },
  "language_info": {
   "codemirror_mode": {
    "name": "ipython",
    "version": 3
   },
   "file_extension": ".py",
   "mimetype": "text/x-python",
   "name": "python",
   "nbconvert_exporter": "python",
   "pygments_lexer": "ipython3",
   "version": "3.7.9"
  }
 },
 "nbformat": 4,
 "nbformat_minor": 4
}
